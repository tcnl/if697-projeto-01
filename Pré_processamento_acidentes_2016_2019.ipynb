{
  "nbformat": 4,
  "nbformat_minor": 0,
  "metadata": {
    "colab": {
      "name": "Pré processamento - acidentes 2016-2019",
      "provenance": [],
      "collapsed_sections": [
        "yvbrJX1Z9KI9",
        "amWRZKzbRNP-",
        "nsdb5ft95Klh",
        "d6a8yEhuDjpc",
        "HzSGc_2HVt2b"
      ],
      "toc_visible": true
    },
    "kernelspec": {
      "display_name": "Python 3",
      "name": "python3"
    }
  },
  "cells": [
    {
      "cell_type": "code",
      "metadata": {
        "id": "GEANveeNGbb0"
      },
      "source": [
        "import pandas as pd\n",
        "import matplotlib.pyplot as plt\n",
        "import seaborn; seaborn.set()\n",
        "import seaborn as sns\n",
        "import numpy as np\n",
        "import datetime\n"
      ],
      "execution_count": 1,
      "outputs": []
    },
    {
      "cell_type": "code",
      "metadata": {
        "id": "dJaa5JnSWXSF"
      },
      "source": [
        ""
      ],
      "execution_count": null,
      "outputs": []
    },
    {
      "cell_type": "markdown",
      "metadata": {
        "id": "H1x8aDQL4aLt"
      },
      "source": [
        "# Importação"
      ]
    },
    {
      "cell_type": "code",
      "metadata": {
        "id": "cvbebz3ySD5a"
      },
      "source": [
        "urls_1 = ['https://raw.githubusercontent.com/tcnl/tcnl/master/acidentes-2019.csv', 'https://raw.githubusercontent.com/tcnl/tcnl/master/acidentes_2018.csv', 'https://raw.githubusercontent.com/ecmac/data-files/main/acidentes_2017.csv']\n",
        "\n",
        "acidentes_1 = pd.concat((pd.read_csv(f, sep=';') for f in urls_1), axis=0, ignore_index=True)"
      ],
      "execution_count": 2,
      "outputs": []
    },
    {
      "cell_type": "code",
      "metadata": {
        "id": "Bxq4TgQ4KoLr",
        "colab": {
          "base_uri": "https://localhost:8080/",
          "height": 424
        },
        "outputId": "c74763b3-5eeb-43a0-9fa4-7895e559fff3"
      },
      "source": [
        "acidentes_1 = acidentes_1.filter(['DATA', 'hora', 'natureza_acidente', 'bairro', 'tipo'])\n",
        "\n",
        "acidentes_1"
      ],
      "execution_count": 3,
      "outputs": [
        {
          "output_type": "execute_result",
          "data": {
            "text/html": [
              "<div>\n",
              "<style scoped>\n",
              "    .dataframe tbody tr th:only-of-type {\n",
              "        vertical-align: middle;\n",
              "    }\n",
              "\n",
              "    .dataframe tbody tr th {\n",
              "        vertical-align: top;\n",
              "    }\n",
              "\n",
              "    .dataframe thead th {\n",
              "        text-align: right;\n",
              "    }\n",
              "</style>\n",
              "<table border=\"1\" class=\"dataframe\">\n",
              "  <thead>\n",
              "    <tr style=\"text-align: right;\">\n",
              "      <th></th>\n",
              "      <th>DATA</th>\n",
              "      <th>hora</th>\n",
              "      <th>natureza_acidente</th>\n",
              "      <th>bairro</th>\n",
              "      <th>tipo</th>\n",
              "    </tr>\n",
              "  </thead>\n",
              "  <tbody>\n",
              "    <tr>\n",
              "      <th>0</th>\n",
              "      <td>2019-01-01</td>\n",
              "      <td>00:41:00</td>\n",
              "      <td>SEM VÍTIMA</td>\n",
              "      <td>IPSEP</td>\n",
              "      <td>COLISÃO TRASEIRA</td>\n",
              "    </tr>\n",
              "    <tr>\n",
              "      <th>1</th>\n",
              "      <td>2019-01-01</td>\n",
              "      <td>01:37:00</td>\n",
              "      <td>SEM VÍTIMA</td>\n",
              "      <td>BOA VIAGEM</td>\n",
              "      <td>ABALROAMENTO TRANSVERSAL</td>\n",
              "    </tr>\n",
              "    <tr>\n",
              "      <th>2</th>\n",
              "      <td>2019-01-01</td>\n",
              "      <td>14:20:00</td>\n",
              "      <td>SEM VÍTIMA</td>\n",
              "      <td>BOA VIAGEM</td>\n",
              "      <td>COLISÃO</td>\n",
              "    </tr>\n",
              "    <tr>\n",
              "      <th>3</th>\n",
              "      <td>2019-01-01</td>\n",
              "      <td>02:53:00</td>\n",
              "      <td>SEM VÍTIMA</td>\n",
              "      <td>IMBIRIBEIRA</td>\n",
              "      <td>COLISÃO</td>\n",
              "    </tr>\n",
              "    <tr>\n",
              "      <th>4</th>\n",
              "      <td>2019-01-01</td>\n",
              "      <td>08:17:00</td>\n",
              "      <td>COM VÍTIMA</td>\n",
              "      <td>JAQUEIRA</td>\n",
              "      <td>COLISÃO COM CICLISTA</td>\n",
              "    </tr>\n",
              "    <tr>\n",
              "      <th>...</th>\n",
              "      <td>...</td>\n",
              "      <td>...</td>\n",
              "      <td>...</td>\n",
              "      <td>...</td>\n",
              "      <td>...</td>\n",
              "    </tr>\n",
              "    <tr>\n",
              "      <th>35226</th>\n",
              "      <td>2017-12-31</td>\n",
              "      <td>18:48:00</td>\n",
              "      <td>COM VÍTIMA</td>\n",
              "      <td>DERBY</td>\n",
              "      <td>COLISÃO</td>\n",
              "    </tr>\n",
              "    <tr>\n",
              "      <th>35227</th>\n",
              "      <td>2017-12-31</td>\n",
              "      <td>19:20:00</td>\n",
              "      <td>COM VÍTIMA</td>\n",
              "      <td>MADALENA</td>\n",
              "      <td>COLISÃO</td>\n",
              "    </tr>\n",
              "    <tr>\n",
              "      <th>35228</th>\n",
              "      <td>2017-12-31</td>\n",
              "      <td>20:53:00</td>\n",
              "      <td>SEM VÍTIMA</td>\n",
              "      <td>BOA VIAGEM</td>\n",
              "      <td>COLISÃO</td>\n",
              "    </tr>\n",
              "    <tr>\n",
              "      <th>35229</th>\n",
              "      <td>2017-12-31</td>\n",
              "      <td>22:29:00</td>\n",
              "      <td>SEM VÍTIMA</td>\n",
              "      <td>BOA VIAGEM</td>\n",
              "      <td>COLISÃO</td>\n",
              "    </tr>\n",
              "    <tr>\n",
              "      <th>35230</th>\n",
              "      <td>2017-12-31</td>\n",
              "      <td>23:01:00</td>\n",
              "      <td>COM VÍTIMA</td>\n",
              "      <td>ARRUDA</td>\n",
              "      <td>COLISÃO</td>\n",
              "    </tr>\n",
              "  </tbody>\n",
              "</table>\n",
              "<p>35231 rows × 5 columns</p>\n",
              "</div>"
            ],
            "text/plain": [
              "             DATA      hora  ...       bairro                      tipo\n",
              "0      2019-01-01  00:41:00  ...        IPSEP          COLISÃO TRASEIRA\n",
              "1      2019-01-01  01:37:00  ...   BOA VIAGEM  ABALROAMENTO TRANSVERSAL\n",
              "2      2019-01-01  14:20:00  ...   BOA VIAGEM                   COLISÃO\n",
              "3      2019-01-01  02:53:00  ...  IMBIRIBEIRA                   COLISÃO\n",
              "4      2019-01-01  08:17:00  ...     JAQUEIRA      COLISÃO COM CICLISTA\n",
              "...           ...       ...  ...          ...                       ...\n",
              "35226  2017-12-31  18:48:00  ...        DERBY                   COLISÃO\n",
              "35227  2017-12-31  19:20:00  ...     MADALENA                   COLISÃO\n",
              "35228  2017-12-31  20:53:00  ...   BOA VIAGEM                   COLISÃO\n",
              "35229  2017-12-31  22:29:00  ...   BOA VIAGEM                   COLISÃO\n",
              "35230  2017-12-31  23:01:00  ...       ARRUDA                   COLISÃO\n",
              "\n",
              "[35231 rows x 5 columns]"
            ]
          },
          "metadata": {
            "tags": []
          },
          "execution_count": 3
        }
      ]
    },
    {
      "cell_type": "code",
      "metadata": {
        "id": "w_TWNkA2Ewat"
      },
      "source": [
        ""
      ],
      "execution_count": null,
      "outputs": []
    },
    {
      "cell_type": "code",
      "metadata": {
        "id": "DgGIyQYBEwd0"
      },
      "source": [
        "##urls_2016_2017 = ['https://raw.githubusercontent.com/ecmac/data-files/main/acidentes_2016.csv', 'https://raw.githubusercontent.com/ecmac/data-files/main/acidentes_2017.csv']\n",
        "\n",
        "##acidentes_2016_2017 = pd.concat((pd.read_csv(f, sep=';') for f in urls_2016_2017), axis=0, ignore_index=True)"
      ],
      "execution_count": null,
      "outputs": []
    },
    {
      "cell_type": "code",
      "metadata": {
        "id": "xglcU93_Ewg9",
        "colab": {
          "base_uri": "https://localhost:8080/",
          "height": 424
        },
        "outputId": "446f98dd-e4f8-45a8-df4d-fe9098180147"
      },
      "source": [
        "##acidentes_2016_2017 = acidentes_2016_2017.filter(['DATA', 'hora', 'natureza_acidente', 'bairro', 'tipo', 'condicao_via'])\n",
        "##acidentes_2016_2017"
      ],
      "execution_count": null,
      "outputs": [
        {
          "output_type": "execute_result",
          "data": {
            "text/html": [
              "<div>\n",
              "<style scoped>\n",
              "    .dataframe tbody tr th:only-of-type {\n",
              "        vertical-align: middle;\n",
              "    }\n",
              "\n",
              "    .dataframe tbody tr th {\n",
              "        vertical-align: top;\n",
              "    }\n",
              "\n",
              "    .dataframe thead th {\n",
              "        text-align: right;\n",
              "    }\n",
              "</style>\n",
              "<table border=\"1\" class=\"dataframe\">\n",
              "  <thead>\n",
              "    <tr style=\"text-align: right;\">\n",
              "      <th></th>\n",
              "      <th>DATA</th>\n",
              "      <th>hora</th>\n",
              "      <th>natureza_acidente</th>\n",
              "      <th>bairro</th>\n",
              "      <th>tipo</th>\n",
              "    </tr>\n",
              "  </thead>\n",
              "  <tbody>\n",
              "    <tr>\n",
              "      <th>0</th>\n",
              "      <td>2016-01-01</td>\n",
              "      <td>00:58:00</td>\n",
              "      <td>SEM VÍTIMA</td>\n",
              "      <td>IPUTINGA</td>\n",
              "      <td>COLISÃO</td>\n",
              "    </tr>\n",
              "    <tr>\n",
              "      <th>1</th>\n",
              "      <td>2016-01-01</td>\n",
              "      <td>01:23:00</td>\n",
              "      <td>SEM VÍTIMA</td>\n",
              "      <td>BOA VIAGEM</td>\n",
              "      <td>COLISÃO</td>\n",
              "    </tr>\n",
              "    <tr>\n",
              "      <th>2</th>\n",
              "      <td>2016-01-01</td>\n",
              "      <td>01:42:00</td>\n",
              "      <td>SEM VÍTIMA</td>\n",
              "      <td>JORDÃO</td>\n",
              "      <td>COLISÃO</td>\n",
              "    </tr>\n",
              "    <tr>\n",
              "      <th>3</th>\n",
              "      <td>2016-01-01</td>\n",
              "      <td>03:08:00</td>\n",
              "      <td>SEM VÍTIMA</td>\n",
              "      <td>IBURA</td>\n",
              "      <td>COLISÃO</td>\n",
              "    </tr>\n",
              "    <tr>\n",
              "      <th>4</th>\n",
              "      <td>2016-01-01</td>\n",
              "      <td>05:34:00</td>\n",
              "      <td>COM VÍTIMA</td>\n",
              "      <td>PAISSANDU</td>\n",
              "      <td>CHOQUE</td>\n",
              "    </tr>\n",
              "    <tr>\n",
              "      <th>...</th>\n",
              "      <td>...</td>\n",
              "      <td>...</td>\n",
              "      <td>...</td>\n",
              "      <td>...</td>\n",
              "      <td>...</td>\n",
              "    </tr>\n",
              "    <tr>\n",
              "      <th>23016</th>\n",
              "      <td>2017-12-31</td>\n",
              "      <td>18:48:00</td>\n",
              "      <td>COM VÍTIMA</td>\n",
              "      <td>DERBY</td>\n",
              "      <td>COLISÃO</td>\n",
              "    </tr>\n",
              "    <tr>\n",
              "      <th>23017</th>\n",
              "      <td>2017-12-31</td>\n",
              "      <td>19:20:00</td>\n",
              "      <td>COM VÍTIMA</td>\n",
              "      <td>MADALENA</td>\n",
              "      <td>COLISÃO</td>\n",
              "    </tr>\n",
              "    <tr>\n",
              "      <th>23018</th>\n",
              "      <td>2017-12-31</td>\n",
              "      <td>20:53:00</td>\n",
              "      <td>SEM VÍTIMA</td>\n",
              "      <td>BOA VIAGEM</td>\n",
              "      <td>COLISÃO</td>\n",
              "    </tr>\n",
              "    <tr>\n",
              "      <th>23019</th>\n",
              "      <td>2017-12-31</td>\n",
              "      <td>22:29:00</td>\n",
              "      <td>SEM VÍTIMA</td>\n",
              "      <td>BOA VIAGEM</td>\n",
              "      <td>COLISÃO</td>\n",
              "    </tr>\n",
              "    <tr>\n",
              "      <th>23020</th>\n",
              "      <td>2017-12-31</td>\n",
              "      <td>23:01:00</td>\n",
              "      <td>COM VÍTIMA</td>\n",
              "      <td>ARRUDA</td>\n",
              "      <td>COLISÃO</td>\n",
              "    </tr>\n",
              "  </tbody>\n",
              "</table>\n",
              "<p>23021 rows × 5 columns</p>\n",
              "</div>"
            ],
            "text/plain": [
              "             DATA      hora natureza_acidente      bairro     tipo\n",
              "0      2016-01-01  00:58:00        SEM VÍTIMA    IPUTINGA  COLISÃO\n",
              "1      2016-01-01  01:23:00        SEM VÍTIMA  BOA VIAGEM  COLISÃO\n",
              "2      2016-01-01  01:42:00        SEM VÍTIMA      JORDÃO  COLISÃO\n",
              "3      2016-01-01  03:08:00        SEM VÍTIMA       IBURA  COLISÃO\n",
              "4      2016-01-01  05:34:00        COM VÍTIMA   PAISSANDU   CHOQUE\n",
              "...           ...       ...               ...         ...      ...\n",
              "23016  2017-12-31  18:48:00        COM VÍTIMA       DERBY  COLISÃO\n",
              "23017  2017-12-31  19:20:00        COM VÍTIMA    MADALENA  COLISÃO\n",
              "23018  2017-12-31  20:53:00        SEM VÍTIMA  BOA VIAGEM  COLISÃO\n",
              "23019  2017-12-31  22:29:00        SEM VÍTIMA  BOA VIAGEM  COLISÃO\n",
              "23020  2017-12-31  23:01:00        COM VÍTIMA      ARRUDA  COLISÃO\n",
              "\n",
              "[23021 rows x 5 columns]"
            ]
          },
          "metadata": {
            "tags": []
          },
          "execution_count": 10
        }
      ]
    },
    {
      "cell_type": "code",
      "metadata": {
        "id": "VUiQDsHe8LQ2",
        "colab": {
          "base_uri": "https://localhost:8080/",
          "height": 1000
        },
        "outputId": "098745d4-e057-41a4-91ad-f4eadcc106c5"
      },
      "source": [
        "url_2016 = 'https://raw.githubusercontent.com/ecmac/data-files/main/acidentes_2016.csv'\n",
        "acidentes_2016 = pd.read_csv(url_2016, sep=';')\n",
        "acidentes_2016 = acidentes_2016.loc[acidentes_2016['natureza_acidente'] == 'VÍTIMA FATAL']\n",
        "acidentes_2016_fatais = acidentes_2016.filter(['DATA', 'hora', 'natureza_acidente', 'bairro', 'tipo', 'condicao_via'])\n",
        "acidentes_2016_fatais"
      ],
      "execution_count": 4,
      "outputs": [
        {
          "output_type": "execute_result",
          "data": {
            "text/html": [
              "<div>\n",
              "<style scoped>\n",
              "    .dataframe tbody tr th:only-of-type {\n",
              "        vertical-align: middle;\n",
              "    }\n",
              "\n",
              "    .dataframe tbody tr th {\n",
              "        vertical-align: top;\n",
              "    }\n",
              "\n",
              "    .dataframe thead th {\n",
              "        text-align: right;\n",
              "    }\n",
              "</style>\n",
              "<table border=\"1\" class=\"dataframe\">\n",
              "  <thead>\n",
              "    <tr style=\"text-align: right;\">\n",
              "      <th></th>\n",
              "      <th>DATA</th>\n",
              "      <th>hora</th>\n",
              "      <th>natureza_acidente</th>\n",
              "      <th>bairro</th>\n",
              "      <th>tipo</th>\n",
              "    </tr>\n",
              "  </thead>\n",
              "  <tbody>\n",
              "    <tr>\n",
              "      <th>19</th>\n",
              "      <td>2016-01-02</td>\n",
              "      <td>06:32:00</td>\n",
              "      <td>VÍTIMA FATAL</td>\n",
              "      <td>BOA VISTA</td>\n",
              "      <td>COLISÃO</td>\n",
              "    </tr>\n",
              "    <tr>\n",
              "      <th>36</th>\n",
              "      <td>2016-01-03</td>\n",
              "      <td>03:41:00</td>\n",
              "      <td>VÍTIMA FATAL</td>\n",
              "      <td>IMBIRIBEIRA</td>\n",
              "      <td>COLISÃO</td>\n",
              "    </tr>\n",
              "    <tr>\n",
              "      <th>170</th>\n",
              "      <td>2016-01-07</td>\n",
              "      <td>20:09:00</td>\n",
              "      <td>VÍTIMA FATAL</td>\n",
              "      <td>BOA VIAGEM</td>\n",
              "      <td>COLISÃO</td>\n",
              "    </tr>\n",
              "    <tr>\n",
              "      <th>259</th>\n",
              "      <td>2016-01-11</td>\n",
              "      <td>05:53:00</td>\n",
              "      <td>VÍTIMA FATAL</td>\n",
              "      <td>ILHA DO RETIRO</td>\n",
              "      <td>CHOQUE</td>\n",
              "    </tr>\n",
              "    <tr>\n",
              "      <th>523</th>\n",
              "      <td>2016-01-19</td>\n",
              "      <td>23:33:00</td>\n",
              "      <td>VÍTIMA FATAL</td>\n",
              "      <td>MADALENA</td>\n",
              "      <td>CHOQUE</td>\n",
              "    </tr>\n",
              "    <tr>\n",
              "      <th>980</th>\n",
              "      <td>2016-02-06</td>\n",
              "      <td>21:01:00</td>\n",
              "      <td>VÍTIMA FATAL</td>\n",
              "      <td>BOA VISTA</td>\n",
              "      <td>COLISÃO</td>\n",
              "    </tr>\n",
              "    <tr>\n",
              "      <th>985</th>\n",
              "      <td>2016-02-07</td>\n",
              "      <td>02:26:00</td>\n",
              "      <td>VÍTIMA FATAL</td>\n",
              "      <td>ALTO JOSÉ BONIFÁCIO</td>\n",
              "      <td>CHOQUE</td>\n",
              "    </tr>\n",
              "    <tr>\n",
              "      <th>1048</th>\n",
              "      <td>2016-02-11</td>\n",
              "      <td>06:12:00</td>\n",
              "      <td>VÍTIMA FATAL</td>\n",
              "      <td>BONGI</td>\n",
              "      <td>CHOQUE</td>\n",
              "    </tr>\n",
              "    <tr>\n",
              "      <th>1500</th>\n",
              "      <td>2016-02-26</td>\n",
              "      <td>01:30:00</td>\n",
              "      <td>VÍTIMA FATAL</td>\n",
              "      <td>NaN</td>\n",
              "      <td>COLISÃO</td>\n",
              "    </tr>\n",
              "    <tr>\n",
              "      <th>1570</th>\n",
              "      <td>2016-02-28</td>\n",
              "      <td>06:57:00</td>\n",
              "      <td>VÍTIMA FATAL</td>\n",
              "      <td>TORRÕES</td>\n",
              "      <td>COLISÃO COM CICLISTA</td>\n",
              "    </tr>\n",
              "    <tr>\n",
              "      <th>1571</th>\n",
              "      <td>2016-02-28</td>\n",
              "      <td>09:08:00</td>\n",
              "      <td>VÍTIMA FATAL</td>\n",
              "      <td>SAN MARTIN</td>\n",
              "      <td>CHOQUE</td>\n",
              "    </tr>\n",
              "    <tr>\n",
              "      <th>2023</th>\n",
              "      <td>2016-03-14</td>\n",
              "      <td>16:19:00</td>\n",
              "      <td>VÍTIMA FATAL</td>\n",
              "      <td>ENCRUZILHADA</td>\n",
              "      <td>ATROPELAMENTO</td>\n",
              "    </tr>\n",
              "    <tr>\n",
              "      <th>2205</th>\n",
              "      <td>2016-03-21</td>\n",
              "      <td>06:16:00</td>\n",
              "      <td>VÍTIMA FATAL</td>\n",
              "      <td>SÃO JOSÉ</td>\n",
              "      <td>CHOQUE</td>\n",
              "    </tr>\n",
              "    <tr>\n",
              "      <th>2359</th>\n",
              "      <td>2016-03-26</td>\n",
              "      <td>01:03:00</td>\n",
              "      <td>VÍTIMA FATAL</td>\n",
              "      <td>TORRÕES</td>\n",
              "      <td>ATROPELAMENTO</td>\n",
              "    </tr>\n",
              "    <tr>\n",
              "      <th>2369</th>\n",
              "      <td>2016-03-26</td>\n",
              "      <td>17:33:00</td>\n",
              "      <td>VÍTIMA FATAL</td>\n",
              "      <td>TORRE</td>\n",
              "      <td>CHOQUE</td>\n",
              "    </tr>\n",
              "    <tr>\n",
              "      <th>2502</th>\n",
              "      <td>2016-04-04</td>\n",
              "      <td>04:49:00</td>\n",
              "      <td>VÍTIMA FATAL</td>\n",
              "      <td>SÍTIO DOS PINTOS</td>\n",
              "      <td>COLISÃO</td>\n",
              "    </tr>\n",
              "    <tr>\n",
              "      <th>2750</th>\n",
              "      <td>2016-04-12</td>\n",
              "      <td>11:08:00</td>\n",
              "      <td>VÍTIMA FATAL</td>\n",
              "      <td>IBURA</td>\n",
              "      <td>COLISÃO</td>\n",
              "    </tr>\n",
              "    <tr>\n",
              "      <th>2847</th>\n",
              "      <td>2016-04-15</td>\n",
              "      <td>05:51:00</td>\n",
              "      <td>VÍTIMA FATAL</td>\n",
              "      <td>BOA VIAGEM</td>\n",
              "      <td>COLISÃO</td>\n",
              "    </tr>\n",
              "    <tr>\n",
              "      <th>3002</th>\n",
              "      <td>2016-04-19</td>\n",
              "      <td>17:03:00</td>\n",
              "      <td>VÍTIMA FATAL</td>\n",
              "      <td>MADALENA</td>\n",
              "      <td>COLISÃO</td>\n",
              "    </tr>\n",
              "    <tr>\n",
              "      <th>4057</th>\n",
              "      <td>2016-05-23</td>\n",
              "      <td>20:44:00</td>\n",
              "      <td>VÍTIMA FATAL</td>\n",
              "      <td>CABANGA</td>\n",
              "      <td>COLISÃO</td>\n",
              "    </tr>\n",
              "    <tr>\n",
              "      <th>4643</th>\n",
              "      <td>2016-06-11</td>\n",
              "      <td>05:21:00</td>\n",
              "      <td>VÍTIMA FATAL</td>\n",
              "      <td>IPSEP</td>\n",
              "      <td>ACID. DE PERCURSO</td>\n",
              "    </tr>\n",
              "    <tr>\n",
              "      <th>5543</th>\n",
              "      <td>2016-07-11</td>\n",
              "      <td>19:02:00</td>\n",
              "      <td>VÍTIMA FATAL</td>\n",
              "      <td>IMBIRIBEIRA</td>\n",
              "      <td>COLISÃO</td>\n",
              "    </tr>\n",
              "    <tr>\n",
              "      <th>6420</th>\n",
              "      <td>2016-08-09</td>\n",
              "      <td>18:56:00</td>\n",
              "      <td>VÍTIMA FATAL</td>\n",
              "      <td>MORRO DA CONCEIÇÃO</td>\n",
              "      <td>ATROPELAMENTO</td>\n",
              "    </tr>\n",
              "    <tr>\n",
              "      <th>6554</th>\n",
              "      <td>2016-08-13</td>\n",
              "      <td>23:51:00</td>\n",
              "      <td>VÍTIMA FATAL</td>\n",
              "      <td>IMBIRIBEIRA</td>\n",
              "      <td>ATROPELAMENTO</td>\n",
              "    </tr>\n",
              "    <tr>\n",
              "      <th>6951</th>\n",
              "      <td>2016-08-25</td>\n",
              "      <td>21:35:00</td>\n",
              "      <td>VÍTIMA FATAL</td>\n",
              "      <td>IMBIRIBEIRA</td>\n",
              "      <td>ACID. DE PERCURSO</td>\n",
              "    </tr>\n",
              "    <tr>\n",
              "      <th>7026</th>\n",
              "      <td>2016-08-28</td>\n",
              "      <td>00:40:00</td>\n",
              "      <td>VÍTIMA FATAL</td>\n",
              "      <td>ÁGUA FRIA</td>\n",
              "      <td>ATROPELAMENTO</td>\n",
              "    </tr>\n",
              "    <tr>\n",
              "      <th>7399</th>\n",
              "      <td>2016-09-09</td>\n",
              "      <td>05:54:00</td>\n",
              "      <td>VÍTIMA FATAL</td>\n",
              "      <td>SÃO JOSÉ</td>\n",
              "      <td>ATROPELAMENTO</td>\n",
              "    </tr>\n",
              "    <tr>\n",
              "      <th>7662</th>\n",
              "      <td>2016-09-16</td>\n",
              "      <td>19:42:00</td>\n",
              "      <td>VÍTIMA FATAL</td>\n",
              "      <td>SANTO AMARO</td>\n",
              "      <td>ATROPELAMENTO</td>\n",
              "    </tr>\n",
              "    <tr>\n",
              "      <th>8354</th>\n",
              "      <td>2016-10-08</td>\n",
              "      <td>07:59:00</td>\n",
              "      <td>VÍTIMA FATAL</td>\n",
              "      <td>IMBIRIBEIRA</td>\n",
              "      <td>CHOQUE</td>\n",
              "    </tr>\n",
              "    <tr>\n",
              "      <th>8675</th>\n",
              "      <td>2016-10-18</td>\n",
              "      <td>13:17:00</td>\n",
              "      <td>VÍTIMA FATAL</td>\n",
              "      <td>IMBIRIBEIRA</td>\n",
              "      <td>ACID. DE PERCURSO</td>\n",
              "    </tr>\n",
              "    <tr>\n",
              "      <th>9076</th>\n",
              "      <td>2016-10-28</td>\n",
              "      <td>21:09:00</td>\n",
              "      <td>VÍTIMA FATAL</td>\n",
              "      <td>BOA VIAGEM</td>\n",
              "      <td>ATROPELAMENTO</td>\n",
              "    </tr>\n",
              "    <tr>\n",
              "      <th>9101</th>\n",
              "      <td>2016-10-29</td>\n",
              "      <td>17:19:00</td>\n",
              "      <td>VÍTIMA FATAL</td>\n",
              "      <td>BOA VIAGEM</td>\n",
              "      <td>ATROPELAMENTO</td>\n",
              "    </tr>\n",
              "    <tr>\n",
              "      <th>9113</th>\n",
              "      <td>2016-10-30</td>\n",
              "      <td>08:40:00</td>\n",
              "      <td>VÍTIMA FATAL</td>\n",
              "      <td>MADALENA</td>\n",
              "      <td>CHOQUE</td>\n",
              "    </tr>\n",
              "    <tr>\n",
              "      <th>9566</th>\n",
              "      <td>2016-11-12</td>\n",
              "      <td>11:03:00</td>\n",
              "      <td>VÍTIMA FATAL</td>\n",
              "      <td>MANGABEIRA</td>\n",
              "      <td>COLISÃO</td>\n",
              "    </tr>\n",
              "    <tr>\n",
              "      <th>9712</th>\n",
              "      <td>2016-11-16</td>\n",
              "      <td>21:01:00</td>\n",
              "      <td>VÍTIMA FATAL</td>\n",
              "      <td>ILHA DO RETIRO</td>\n",
              "      <td>ATROPELAMENTO</td>\n",
              "    </tr>\n",
              "    <tr>\n",
              "      <th>9971</th>\n",
              "      <td>2016-11-24</td>\n",
              "      <td>10:23:00</td>\n",
              "      <td>VÍTIMA FATAL</td>\n",
              "      <td>TORRÕES</td>\n",
              "      <td>COLISÃO COM CICLISTA</td>\n",
              "    </tr>\n",
              "    <tr>\n",
              "      <th>9973</th>\n",
              "      <td>2016-11-24</td>\n",
              "      <td>11:59:00</td>\n",
              "      <td>VÍTIMA FATAL</td>\n",
              "      <td>AFOGADOS</td>\n",
              "      <td>ATROPELAMENTO</td>\n",
              "    </tr>\n",
              "    <tr>\n",
              "      <th>11114</th>\n",
              "      <td>2016-12-27</td>\n",
              "      <td>11:26:00</td>\n",
              "      <td>VÍTIMA FATAL</td>\n",
              "      <td>CORDEIRO</td>\n",
              "      <td>ATROPELAMENTO</td>\n",
              "    </tr>\n",
              "    <tr>\n",
              "      <th>11230</th>\n",
              "      <td>2016-12-30</td>\n",
              "      <td>14:30:00</td>\n",
              "      <td>VÍTIMA FATAL</td>\n",
              "      <td>VÁRZEA</td>\n",
              "      <td>COLISÃO</td>\n",
              "    </tr>\n",
              "  </tbody>\n",
              "</table>\n",
              "</div>"
            ],
            "text/plain": [
              "             DATA      hora  ...               bairro                  tipo\n",
              "19     2016-01-02  06:32:00  ...            BOA VISTA               COLISÃO\n",
              "36     2016-01-03  03:41:00  ...          IMBIRIBEIRA               COLISÃO\n",
              "170    2016-01-07  20:09:00  ...           BOA VIAGEM               COLISÃO\n",
              "259    2016-01-11  05:53:00  ...       ILHA DO RETIRO                CHOQUE\n",
              "523    2016-01-19  23:33:00  ...             MADALENA                CHOQUE\n",
              "980    2016-02-06  21:01:00  ...            BOA VISTA               COLISÃO\n",
              "985    2016-02-07  02:26:00  ...  ALTO JOSÉ BONIFÁCIO                CHOQUE\n",
              "1048   2016-02-11  06:12:00  ...                BONGI                CHOQUE\n",
              "1500   2016-02-26  01:30:00  ...                  NaN               COLISÃO\n",
              "1570   2016-02-28  06:57:00  ...              TORRÕES  COLISÃO COM CICLISTA\n",
              "1571   2016-02-28  09:08:00  ...           SAN MARTIN                CHOQUE\n",
              "2023   2016-03-14  16:19:00  ...         ENCRUZILHADA         ATROPELAMENTO\n",
              "2205   2016-03-21  06:16:00  ...             SÃO JOSÉ                CHOQUE\n",
              "2359   2016-03-26  01:03:00  ...              TORRÕES         ATROPELAMENTO\n",
              "2369   2016-03-26  17:33:00  ...                TORRE                CHOQUE\n",
              "2502   2016-04-04  04:49:00  ...     SÍTIO DOS PINTOS               COLISÃO\n",
              "2750   2016-04-12  11:08:00  ...                IBURA               COLISÃO\n",
              "2847   2016-04-15  05:51:00  ...           BOA VIAGEM               COLISÃO\n",
              "3002   2016-04-19  17:03:00  ...             MADALENA               COLISÃO\n",
              "4057   2016-05-23  20:44:00  ...              CABANGA               COLISÃO\n",
              "4643   2016-06-11  05:21:00  ...                IPSEP     ACID. DE PERCURSO\n",
              "5543   2016-07-11  19:02:00  ...          IMBIRIBEIRA               COLISÃO\n",
              "6420   2016-08-09  18:56:00  ...   MORRO DA CONCEIÇÃO         ATROPELAMENTO\n",
              "6554   2016-08-13  23:51:00  ...          IMBIRIBEIRA         ATROPELAMENTO\n",
              "6951   2016-08-25  21:35:00  ...          IMBIRIBEIRA     ACID. DE PERCURSO\n",
              "7026   2016-08-28  00:40:00  ...            ÁGUA FRIA         ATROPELAMENTO\n",
              "7399   2016-09-09  05:54:00  ...             SÃO JOSÉ         ATROPELAMENTO\n",
              "7662   2016-09-16  19:42:00  ...          SANTO AMARO         ATROPELAMENTO\n",
              "8354   2016-10-08  07:59:00  ...          IMBIRIBEIRA                CHOQUE\n",
              "8675   2016-10-18  13:17:00  ...          IMBIRIBEIRA     ACID. DE PERCURSO\n",
              "9076   2016-10-28  21:09:00  ...           BOA VIAGEM         ATROPELAMENTO\n",
              "9101   2016-10-29  17:19:00  ...           BOA VIAGEM         ATROPELAMENTO\n",
              "9113   2016-10-30  08:40:00  ...             MADALENA                CHOQUE\n",
              "9566   2016-11-12  11:03:00  ...           MANGABEIRA               COLISÃO\n",
              "9712   2016-11-16  21:01:00  ...       ILHA DO RETIRO         ATROPELAMENTO\n",
              "9971   2016-11-24  10:23:00  ...              TORRÕES  COLISÃO COM CICLISTA\n",
              "9973   2016-11-24  11:59:00  ...             AFOGADOS         ATROPELAMENTO\n",
              "11114  2016-12-27  11:26:00  ...             CORDEIRO         ATROPELAMENTO\n",
              "11230  2016-12-30  14:30:00  ...               VÁRZEA               COLISÃO\n",
              "\n",
              "[39 rows x 5 columns]"
            ]
          },
          "metadata": {
            "tags": []
          },
          "execution_count": 4
        }
      ]
    },
    {
      "cell_type": "code",
      "metadata": {
        "id": "3s0ydCBKGj1i"
      },
      "source": [
        "##acidentes_fatais = acidentes_2016_2017.loc[acidentes_2016_2017['natureza_acidente'] == 'VÍTIMA FATAL']\n",
        "\n",
        "##acidentes_fatais"
      ],
      "execution_count": null,
      "outputs": []
    },
    {
      "cell_type": "markdown",
      "metadata": {
        "id": "ssifkEn14gia"
      },
      "source": [
        "# Balanceamento dos dados de 2018 e 2019"
      ]
    },
    {
      "cell_type": "code",
      "metadata": {
        "id": "5xvMHxOb6CBQ",
        "colab": {
          "base_uri": "https://localhost:8080/"
        },
        "outputId": "9cf1c813-ef65-4184-83b4-947736278ff1"
      },
      "source": [
        "acidentes_2018_2019.shape"
      ],
      "execution_count": null,
      "outputs": [
        {
          "output_type": "execute_result",
          "data": {
            "text/plain": [
              "(23473, 6)"
            ]
          },
          "metadata": {
            "tags": []
          },
          "execution_count": 13
        }
      ]
    },
    {
      "cell_type": "code",
      "metadata": {
        "id": "hoTwdS93Gj7y",
        "colab": {
          "base_uri": "https://localhost:8080/"
        },
        "outputId": "74454171-7556-41f7-9038-5da67059bf01"
      },
      "source": [
        "sem_na_2018_2019 = acidentes_2018_2019.dropna()\n",
        "sem_na_2018_2019.shape"
      ],
      "execution_count": null,
      "outputs": [
        {
          "output_type": "execute_result",
          "data": {
            "text/plain": [
              "(11370, 6)"
            ]
          },
          "metadata": {
            "tags": []
          },
          "execution_count": 15
        }
      ]
    },
    {
      "cell_type": "code",
      "metadata": {
        "id": "DB67Qn0V6KQY",
        "colab": {
          "base_uri": "https://localhost:8080/",
          "height": 424
        },
        "outputId": "467aabb6-eb42-4147-ce4f-0f75e8eeca3a"
      },
      "source": [
        "sem_na_2018_2019"
      ],
      "execution_count": null,
      "outputs": [
        {
          "output_type": "execute_result",
          "data": {
            "text/html": [
              "<div>\n",
              "<style scoped>\n",
              "    .dataframe tbody tr th:only-of-type {\n",
              "        vertical-align: middle;\n",
              "    }\n",
              "\n",
              "    .dataframe tbody tr th {\n",
              "        vertical-align: top;\n",
              "    }\n",
              "\n",
              "    .dataframe thead th {\n",
              "        text-align: right;\n",
              "    }\n",
              "</style>\n",
              "<table border=\"1\" class=\"dataframe\">\n",
              "  <thead>\n",
              "    <tr style=\"text-align: right;\">\n",
              "      <th></th>\n",
              "      <th>DATA</th>\n",
              "      <th>hora</th>\n",
              "      <th>natureza_acidente</th>\n",
              "      <th>bairro</th>\n",
              "      <th>tipo</th>\n",
              "      <th>condicao_via</th>\n",
              "    </tr>\n",
              "  </thead>\n",
              "  <tbody>\n",
              "    <tr>\n",
              "      <th>0</th>\n",
              "      <td>2019-01-01</td>\n",
              "      <td>00:41:00</td>\n",
              "      <td>SEM VÍTIMA</td>\n",
              "      <td>IPSEP</td>\n",
              "      <td>COLISÃO TRASEIRA</td>\n",
              "      <td>Seca</td>\n",
              "    </tr>\n",
              "    <tr>\n",
              "      <th>1</th>\n",
              "      <td>2019-01-01</td>\n",
              "      <td>01:37:00</td>\n",
              "      <td>SEM VÍTIMA</td>\n",
              "      <td>BOA VIAGEM</td>\n",
              "      <td>ABALROAMENTO TRANSVERSAL</td>\n",
              "      <td>Seca</td>\n",
              "    </tr>\n",
              "    <tr>\n",
              "      <th>4</th>\n",
              "      <td>2019-01-01</td>\n",
              "      <td>08:17:00</td>\n",
              "      <td>COM VÍTIMA</td>\n",
              "      <td>JAQUEIRA</td>\n",
              "      <td>COLISÃO COM CICLISTA</td>\n",
              "      <td>Seca</td>\n",
              "    </tr>\n",
              "    <tr>\n",
              "      <th>5</th>\n",
              "      <td>2019-01-01</td>\n",
              "      <td>09:30:00</td>\n",
              "      <td>COM VÍTIMA</td>\n",
              "      <td>IBURA</td>\n",
              "      <td>COLISÃO FRONTAL</td>\n",
              "      <td>Seca</td>\n",
              "    </tr>\n",
              "    <tr>\n",
              "      <th>6</th>\n",
              "      <td>2019-01-01</td>\n",
              "      <td>09:54:00</td>\n",
              "      <td>COM VÍTIMA</td>\n",
              "      <td>SAN MARTIN</td>\n",
              "      <td>CHOQUE OBJETO FIXO</td>\n",
              "      <td>Seca</td>\n",
              "    </tr>\n",
              "    <tr>\n",
              "      <th>...</th>\n",
              "      <td>...</td>\n",
              "      <td>...</td>\n",
              "      <td>...</td>\n",
              "      <td>...</td>\n",
              "      <td>...</td>\n",
              "      <td>...</td>\n",
              "    </tr>\n",
              "    <tr>\n",
              "      <th>23464</th>\n",
              "      <td>2018-12-31</td>\n",
              "      <td>13:39:00</td>\n",
              "      <td>COM VÍTIMA</td>\n",
              "      <td>BOA VISTA</td>\n",
              "      <td>COLISÃO FRONTAL</td>\n",
              "      <td>Seca</td>\n",
              "    </tr>\n",
              "    <tr>\n",
              "      <th>23466</th>\n",
              "      <td>2018-12-31</td>\n",
              "      <td>14:01:00</td>\n",
              "      <td>SEM VÍTIMA</td>\n",
              "      <td>CORDEIRO</td>\n",
              "      <td>ABALROAMENTO LONGITUDINAL</td>\n",
              "      <td>Seca</td>\n",
              "    </tr>\n",
              "    <tr>\n",
              "      <th>23468</th>\n",
              "      <td>2018-12-31</td>\n",
              "      <td>14:31:00</td>\n",
              "      <td>SEM VÍTIMA</td>\n",
              "      <td>PAISSANDU</td>\n",
              "      <td>ABALROAMENTO LONGITUDINAL</td>\n",
              "      <td>Seca</td>\n",
              "    </tr>\n",
              "    <tr>\n",
              "      <th>23469</th>\n",
              "      <td>2018-12-31</td>\n",
              "      <td>14:45:00</td>\n",
              "      <td>COM VÍTIMA</td>\n",
              "      <td>PINA</td>\n",
              "      <td>COLISÃO TRASEIRA</td>\n",
              "      <td>Seca</td>\n",
              "    </tr>\n",
              "    <tr>\n",
              "      <th>23470</th>\n",
              "      <td>2018-12-31</td>\n",
              "      <td>14:46:00</td>\n",
              "      <td>SEM VÍTIMA</td>\n",
              "      <td>AFOGADOS</td>\n",
              "      <td>ABALROAMENTO LONGITUDINAL</td>\n",
              "      <td>Seca</td>\n",
              "    </tr>\n",
              "  </tbody>\n",
              "</table>\n",
              "<p>11370 rows × 6 columns</p>\n",
              "</div>"
            ],
            "text/plain": [
              "             DATA      hora  ...                       tipo condicao_via\n",
              "0      2019-01-01  00:41:00  ...           COLISÃO TRASEIRA         Seca\n",
              "1      2019-01-01  01:37:00  ...   ABALROAMENTO TRANSVERSAL         Seca\n",
              "4      2019-01-01  08:17:00  ...       COLISÃO COM CICLISTA         Seca\n",
              "5      2019-01-01  09:30:00  ...            COLISÃO FRONTAL         Seca\n",
              "6      2019-01-01  09:54:00  ...         CHOQUE OBJETO FIXO         Seca\n",
              "...           ...       ...  ...                        ...          ...\n",
              "23464  2018-12-31  13:39:00  ...            COLISÃO FRONTAL         Seca\n",
              "23466  2018-12-31  14:01:00  ...  ABALROAMENTO LONGITUDINAL         Seca\n",
              "23468  2018-12-31  14:31:00  ...  ABALROAMENTO LONGITUDINAL         Seca\n",
              "23469  2018-12-31  14:45:00  ...           COLISÃO TRASEIRA         Seca\n",
              "23470  2018-12-31  14:46:00  ...  ABALROAMENTO LONGITUDINAL         Seca\n",
              "\n",
              "[11370 rows x 6 columns]"
            ]
          },
          "metadata": {
            "tags": []
          },
          "execution_count": 16
        }
      ]
    },
    {
      "cell_type": "code",
      "metadata": {
        "id": "PhaiKuGM6hb_",
        "colab": {
          "base_uri": "https://localhost:8080/"
        },
        "outputId": "5ed9a0a3-d478-4f75-c7f4-652c26e04057"
      },
      "source": [
        "sem_na_2018_2019.loc[sem_na_2018_2019.natureza_acidente == 'SEM VÍTIMA'].shape"
      ],
      "execution_count": null,
      "outputs": [
        {
          "output_type": "execute_result",
          "data": {
            "text/plain": [
              "(8999, 6)"
            ]
          },
          "metadata": {
            "tags": []
          },
          "execution_count": 17
        }
      ]
    },
    {
      "cell_type": "code",
      "metadata": {
        "id": "VVSqIU6K6s1H",
        "colab": {
          "base_uri": "https://localhost:8080/"
        },
        "outputId": "01555d83-6b69-4be2-a4cc-9b4cc1152c97"
      },
      "source": [
        "sem_na_2018_2019.loc[sem_na_2018_2019.natureza_acidente == 'COM VÍTIMA'].shape"
      ],
      "execution_count": null,
      "outputs": [
        {
          "output_type": "execute_result",
          "data": {
            "text/plain": [
              "(2339, 6)"
            ]
          },
          "metadata": {
            "tags": []
          },
          "execution_count": 18
        }
      ]
    },
    {
      "cell_type": "code",
      "metadata": {
        "id": "AI6kZD8D64Dc"
      },
      "source": [
        ""
      ],
      "execution_count": null,
      "outputs": []
    },
    {
      "cell_type": "code",
      "metadata": {
        "id": "OKAYimlf64RY"
      },
      "source": [
        "balanceados = sem_na_2018_2019.drop(sem_na_2018_2019[sem_na_2018_2019.natureza_acidente == 'SEM VÍTIMA'].sample(frac=.7, random_state=42).index)"
      ],
      "execution_count": null,
      "outputs": []
    },
    {
      "cell_type": "code",
      "metadata": {
        "id": "boGcocGu7E44",
        "colab": {
          "base_uri": "https://localhost:8080/"
        },
        "outputId": "42f391bc-3bc8-4a4c-dbd2-cd7efa05f758"
      },
      "source": [
        "balanceados.loc[balanceados.natureza_acidente == 'SEM VÍTIMA'].shape"
      ],
      "execution_count": null,
      "outputs": [
        {
          "output_type": "execute_result",
          "data": {
            "text/plain": [
              "(2700, 6)"
            ]
          },
          "metadata": {
            "tags": []
          },
          "execution_count": 25
        }
      ]
    },
    {
      "cell_type": "code",
      "metadata": {
        "id": "kXE4hXet7E7X",
        "colab": {
          "base_uri": "https://localhost:8080/"
        },
        "outputId": "c9fdf0cb-5ffd-421a-cba2-f29e7309f6e1"
      },
      "source": [
        "balanceados.loc[balanceados.natureza_acidente == 'COM VÍTIMA'].shape"
      ],
      "execution_count": null,
      "outputs": [
        {
          "output_type": "execute_result",
          "data": {
            "text/plain": [
              "(2339, 6)"
            ]
          },
          "metadata": {
            "tags": []
          },
          "execution_count": 26
        }
      ]
    },
    {
      "cell_type": "code",
      "metadata": {
        "id": "7Gf5kRWD7WXb",
        "colab": {
          "base_uri": "https://localhost:8080/"
        },
        "outputId": "1995c6bd-74c2-43a3-cd67-00f1a3076e80"
      },
      "source": [
        "balanceados.loc[balanceados.natureza_acidente == 'VÍTIMA FATAL'].shape"
      ],
      "execution_count": null,
      "outputs": [
        {
          "output_type": "execute_result",
          "data": {
            "text/plain": [
              "(32, 6)"
            ]
          },
          "metadata": {
            "tags": []
          },
          "execution_count": 27
        }
      ]
    },
    {
      "cell_type": "markdown",
      "metadata": {
        "id": "JnXHHoUx4zgl"
      },
      "source": [
        "# Nova seção"
      ]
    },
    {
      "cell_type": "code",
      "metadata": {
        "id": "g-RD95cH3LxI"
      },
      "source": [
        ""
      ],
      "execution_count": null,
      "outputs": []
    },
    {
      "cell_type": "code",
      "metadata": {
        "id": "Pa3jtn0ATZGR"
      },
      "source": [
        "dados_acidentes_2019.dtypes"
      ],
      "execution_count": null,
      "outputs": []
    },
    {
      "cell_type": "code",
      "metadata": {
        "id": "Cu7meoC8ngEz"
      },
      "source": [
        ""
      ],
      "execution_count": null,
      "outputs": []
    },
    {
      "cell_type": "code",
      "metadata": {
        "id": "3Ca0CeL7KiKj"
      },
      "source": [
        "dados_acidentes = pd.concat([acidentes_1, acidentes_2016_fatais], axis=0, ignore_index=True)"
      ],
      "execution_count": 5,
      "outputs": []
    },
    {
      "cell_type": "code",
      "metadata": {
        "id": "a6ZNk0nrKzt6",
        "colab": {
          "base_uri": "https://localhost:8080/",
          "height": 424
        },
        "outputId": "fb7fcf84-8019-470f-a8fe-46150dba0867"
      },
      "source": [
        "dados_acidentes"
      ],
      "execution_count": null,
      "outputs": [
        {
          "output_type": "execute_result",
          "data": {
            "text/html": [
              "<div>\n",
              "<style scoped>\n",
              "    .dataframe tbody tr th:only-of-type {\n",
              "        vertical-align: middle;\n",
              "    }\n",
              "\n",
              "    .dataframe tbody tr th {\n",
              "        vertical-align: top;\n",
              "    }\n",
              "\n",
              "    .dataframe thead th {\n",
              "        text-align: right;\n",
              "    }\n",
              "</style>\n",
              "<table border=\"1\" class=\"dataframe\">\n",
              "  <thead>\n",
              "    <tr style=\"text-align: right;\">\n",
              "      <th></th>\n",
              "      <th>DATA</th>\n",
              "      <th>hora</th>\n",
              "      <th>natureza_acidente</th>\n",
              "      <th>bairro</th>\n",
              "      <th>tipo</th>\n",
              "    </tr>\n",
              "  </thead>\n",
              "  <tbody>\n",
              "    <tr>\n",
              "      <th>0</th>\n",
              "      <td>2019-01-01</td>\n",
              "      <td>00:41:00</td>\n",
              "      <td>SEM VÍTIMA</td>\n",
              "      <td>IPSEP</td>\n",
              "      <td>COLISÃO TRASEIRA</td>\n",
              "    </tr>\n",
              "    <tr>\n",
              "      <th>1</th>\n",
              "      <td>2019-01-01</td>\n",
              "      <td>01:37:00</td>\n",
              "      <td>SEM VÍTIMA</td>\n",
              "      <td>BOA VIAGEM</td>\n",
              "      <td>ABALROAMENTO TRANSVERSAL</td>\n",
              "    </tr>\n",
              "    <tr>\n",
              "      <th>2</th>\n",
              "      <td>2019-01-01</td>\n",
              "      <td>14:20:00</td>\n",
              "      <td>SEM VÍTIMA</td>\n",
              "      <td>BOA VIAGEM</td>\n",
              "      <td>COLISÃO</td>\n",
              "    </tr>\n",
              "    <tr>\n",
              "      <th>3</th>\n",
              "      <td>2019-01-01</td>\n",
              "      <td>02:53:00</td>\n",
              "      <td>SEM VÍTIMA</td>\n",
              "      <td>IMBIRIBEIRA</td>\n",
              "      <td>COLISÃO</td>\n",
              "    </tr>\n",
              "    <tr>\n",
              "      <th>4</th>\n",
              "      <td>2019-01-01</td>\n",
              "      <td>08:17:00</td>\n",
              "      <td>COM VÍTIMA</td>\n",
              "      <td>JAQUEIRA</td>\n",
              "      <td>COLISÃO COM CICLISTA</td>\n",
              "    </tr>\n",
              "    <tr>\n",
              "      <th>...</th>\n",
              "      <td>...</td>\n",
              "      <td>...</td>\n",
              "      <td>...</td>\n",
              "      <td>...</td>\n",
              "      <td>...</td>\n",
              "    </tr>\n",
              "    <tr>\n",
              "      <th>35265</th>\n",
              "      <td>2016-11-16</td>\n",
              "      <td>21:01:00</td>\n",
              "      <td>VÍTIMA FATAL</td>\n",
              "      <td>ILHA DO RETIRO</td>\n",
              "      <td>ATROPELAMENTO</td>\n",
              "    </tr>\n",
              "    <tr>\n",
              "      <th>35266</th>\n",
              "      <td>2016-11-24</td>\n",
              "      <td>10:23:00</td>\n",
              "      <td>VÍTIMA FATAL</td>\n",
              "      <td>TORRÕES</td>\n",
              "      <td>COLISÃO COM CICLISTA</td>\n",
              "    </tr>\n",
              "    <tr>\n",
              "      <th>35267</th>\n",
              "      <td>2016-11-24</td>\n",
              "      <td>11:59:00</td>\n",
              "      <td>VÍTIMA FATAL</td>\n",
              "      <td>AFOGADOS</td>\n",
              "      <td>ATROPELAMENTO</td>\n",
              "    </tr>\n",
              "    <tr>\n",
              "      <th>35268</th>\n",
              "      <td>2016-12-27</td>\n",
              "      <td>11:26:00</td>\n",
              "      <td>VÍTIMA FATAL</td>\n",
              "      <td>CORDEIRO</td>\n",
              "      <td>ATROPELAMENTO</td>\n",
              "    </tr>\n",
              "    <tr>\n",
              "      <th>35269</th>\n",
              "      <td>2016-12-30</td>\n",
              "      <td>14:30:00</td>\n",
              "      <td>VÍTIMA FATAL</td>\n",
              "      <td>VÁRZEA</td>\n",
              "      <td>COLISÃO</td>\n",
              "    </tr>\n",
              "  </tbody>\n",
              "</table>\n",
              "<p>35270 rows × 5 columns</p>\n",
              "</div>"
            ],
            "text/plain": [
              "             DATA      hora  ...          bairro                      tipo\n",
              "0      2019-01-01  00:41:00  ...           IPSEP          COLISÃO TRASEIRA\n",
              "1      2019-01-01  01:37:00  ...      BOA VIAGEM  ABALROAMENTO TRANSVERSAL\n",
              "2      2019-01-01  14:20:00  ...      BOA VIAGEM                   COLISÃO\n",
              "3      2019-01-01  02:53:00  ...     IMBIRIBEIRA                   COLISÃO\n",
              "4      2019-01-01  08:17:00  ...        JAQUEIRA      COLISÃO COM CICLISTA\n",
              "...           ...       ...  ...             ...                       ...\n",
              "35265  2016-11-16  21:01:00  ...  ILHA DO RETIRO             ATROPELAMENTO\n",
              "35266  2016-11-24  10:23:00  ...         TORRÕES      COLISÃO COM CICLISTA\n",
              "35267  2016-11-24  11:59:00  ...        AFOGADOS             ATROPELAMENTO\n",
              "35268  2016-12-27  11:26:00  ...        CORDEIRO             ATROPELAMENTO\n",
              "35269  2016-12-30  14:30:00  ...          VÁRZEA                   COLISÃO\n",
              "\n",
              "[35270 rows x 5 columns]"
            ]
          },
          "metadata": {
            "tags": []
          },
          "execution_count": 8
        }
      ]
    },
    {
      "cell_type": "code",
      "metadata": {
        "id": "ahR8640eN3Cy",
        "colab": {
          "base_uri": "https://localhost:8080/",
          "height": 424
        },
        "outputId": "4f142470-18f2-41f3-999a-711afa342869"
      },
      "source": [
        "#extrair dia da semana, mês e ano\n",
        "data_acidente = pd.to_datetime(dados_acidentes['DATA'], format=\"%Y-%m-%d\", errors='coerce')\n",
        "\n",
        "dados_acidentes['dia_da_semana'] = data_acidente.apply(lambda x: x.weekday())\n",
        "dados_acidentes['mes'] = data_acidente.apply(lambda x: x.month)\n",
        "dados_acidentes['ano'] = data_acidente.apply(lambda x: x.year)\n",
        "\n",
        "dados_acidentes"
      ],
      "execution_count": 6,
      "outputs": [
        {
          "output_type": "execute_result",
          "data": {
            "text/html": [
              "<div>\n",
              "<style scoped>\n",
              "    .dataframe tbody tr th:only-of-type {\n",
              "        vertical-align: middle;\n",
              "    }\n",
              "\n",
              "    .dataframe tbody tr th {\n",
              "        vertical-align: top;\n",
              "    }\n",
              "\n",
              "    .dataframe thead th {\n",
              "        text-align: right;\n",
              "    }\n",
              "</style>\n",
              "<table border=\"1\" class=\"dataframe\">\n",
              "  <thead>\n",
              "    <tr style=\"text-align: right;\">\n",
              "      <th></th>\n",
              "      <th>DATA</th>\n",
              "      <th>hora</th>\n",
              "      <th>natureza_acidente</th>\n",
              "      <th>bairro</th>\n",
              "      <th>tipo</th>\n",
              "      <th>dia_da_semana</th>\n",
              "      <th>mes</th>\n",
              "      <th>ano</th>\n",
              "    </tr>\n",
              "  </thead>\n",
              "  <tbody>\n",
              "    <tr>\n",
              "      <th>0</th>\n",
              "      <td>2019-01-01</td>\n",
              "      <td>00:41:00</td>\n",
              "      <td>SEM VÍTIMA</td>\n",
              "      <td>IPSEP</td>\n",
              "      <td>COLISÃO TRASEIRA</td>\n",
              "      <td>1</td>\n",
              "      <td>1</td>\n",
              "      <td>2019</td>\n",
              "    </tr>\n",
              "    <tr>\n",
              "      <th>1</th>\n",
              "      <td>2019-01-01</td>\n",
              "      <td>01:37:00</td>\n",
              "      <td>SEM VÍTIMA</td>\n",
              "      <td>BOA VIAGEM</td>\n",
              "      <td>ABALROAMENTO TRANSVERSAL</td>\n",
              "      <td>1</td>\n",
              "      <td>1</td>\n",
              "      <td>2019</td>\n",
              "    </tr>\n",
              "    <tr>\n",
              "      <th>2</th>\n",
              "      <td>2019-01-01</td>\n",
              "      <td>14:20:00</td>\n",
              "      <td>SEM VÍTIMA</td>\n",
              "      <td>BOA VIAGEM</td>\n",
              "      <td>COLISÃO</td>\n",
              "      <td>1</td>\n",
              "      <td>1</td>\n",
              "      <td>2019</td>\n",
              "    </tr>\n",
              "    <tr>\n",
              "      <th>3</th>\n",
              "      <td>2019-01-01</td>\n",
              "      <td>02:53:00</td>\n",
              "      <td>SEM VÍTIMA</td>\n",
              "      <td>IMBIRIBEIRA</td>\n",
              "      <td>COLISÃO</td>\n",
              "      <td>1</td>\n",
              "      <td>1</td>\n",
              "      <td>2019</td>\n",
              "    </tr>\n",
              "    <tr>\n",
              "      <th>4</th>\n",
              "      <td>2019-01-01</td>\n",
              "      <td>08:17:00</td>\n",
              "      <td>COM VÍTIMA</td>\n",
              "      <td>JAQUEIRA</td>\n",
              "      <td>COLISÃO COM CICLISTA</td>\n",
              "      <td>1</td>\n",
              "      <td>1</td>\n",
              "      <td>2019</td>\n",
              "    </tr>\n",
              "    <tr>\n",
              "      <th>...</th>\n",
              "      <td>...</td>\n",
              "      <td>...</td>\n",
              "      <td>...</td>\n",
              "      <td>...</td>\n",
              "      <td>...</td>\n",
              "      <td>...</td>\n",
              "      <td>...</td>\n",
              "      <td>...</td>\n",
              "    </tr>\n",
              "    <tr>\n",
              "      <th>35265</th>\n",
              "      <td>2016-11-16</td>\n",
              "      <td>21:01:00</td>\n",
              "      <td>VÍTIMA FATAL</td>\n",
              "      <td>ILHA DO RETIRO</td>\n",
              "      <td>ATROPELAMENTO</td>\n",
              "      <td>2</td>\n",
              "      <td>11</td>\n",
              "      <td>2016</td>\n",
              "    </tr>\n",
              "    <tr>\n",
              "      <th>35266</th>\n",
              "      <td>2016-11-24</td>\n",
              "      <td>10:23:00</td>\n",
              "      <td>VÍTIMA FATAL</td>\n",
              "      <td>TORRÕES</td>\n",
              "      <td>COLISÃO COM CICLISTA</td>\n",
              "      <td>3</td>\n",
              "      <td>11</td>\n",
              "      <td>2016</td>\n",
              "    </tr>\n",
              "    <tr>\n",
              "      <th>35267</th>\n",
              "      <td>2016-11-24</td>\n",
              "      <td>11:59:00</td>\n",
              "      <td>VÍTIMA FATAL</td>\n",
              "      <td>AFOGADOS</td>\n",
              "      <td>ATROPELAMENTO</td>\n",
              "      <td>3</td>\n",
              "      <td>11</td>\n",
              "      <td>2016</td>\n",
              "    </tr>\n",
              "    <tr>\n",
              "      <th>35268</th>\n",
              "      <td>2016-12-27</td>\n",
              "      <td>11:26:00</td>\n",
              "      <td>VÍTIMA FATAL</td>\n",
              "      <td>CORDEIRO</td>\n",
              "      <td>ATROPELAMENTO</td>\n",
              "      <td>1</td>\n",
              "      <td>12</td>\n",
              "      <td>2016</td>\n",
              "    </tr>\n",
              "    <tr>\n",
              "      <th>35269</th>\n",
              "      <td>2016-12-30</td>\n",
              "      <td>14:30:00</td>\n",
              "      <td>VÍTIMA FATAL</td>\n",
              "      <td>VÁRZEA</td>\n",
              "      <td>COLISÃO</td>\n",
              "      <td>4</td>\n",
              "      <td>12</td>\n",
              "      <td>2016</td>\n",
              "    </tr>\n",
              "  </tbody>\n",
              "</table>\n",
              "<p>35270 rows × 8 columns</p>\n",
              "</div>"
            ],
            "text/plain": [
              "             DATA      hora natureza_acidente  ... dia_da_semana mes   ano\n",
              "0      2019-01-01  00:41:00        SEM VÍTIMA  ...             1   1  2019\n",
              "1      2019-01-01  01:37:00        SEM VÍTIMA  ...             1   1  2019\n",
              "2      2019-01-01  14:20:00        SEM VÍTIMA  ...             1   1  2019\n",
              "3      2019-01-01  02:53:00        SEM VÍTIMA  ...             1   1  2019\n",
              "4      2019-01-01  08:17:00        COM VÍTIMA  ...             1   1  2019\n",
              "...           ...       ...               ...  ...           ...  ..   ...\n",
              "35265  2016-11-16  21:01:00      VÍTIMA FATAL  ...             2  11  2016\n",
              "35266  2016-11-24  10:23:00      VÍTIMA FATAL  ...             3  11  2016\n",
              "35267  2016-11-24  11:59:00      VÍTIMA FATAL  ...             3  11  2016\n",
              "35268  2016-12-27  11:26:00      VÍTIMA FATAL  ...             1  12  2016\n",
              "35269  2016-12-30  14:30:00      VÍTIMA FATAL  ...             4  12  2016\n",
              "\n",
              "[35270 rows x 8 columns]"
            ]
          },
          "metadata": {
            "tags": []
          },
          "execution_count": 6
        }
      ]
    },
    {
      "cell_type": "code",
      "metadata": {
        "id": "5dqo_661YsLB",
        "colab": {
          "base_uri": "https://localhost:8080/",
          "height": 424
        },
        "outputId": "cb895bda-2255-40cf-fdda-f07d5eede0cb"
      },
      "source": [
        "#extrair hora\n",
        "dados_acidentes['hora_bruta'] = pd.to_datetime(dados_acidentes['hora'], format=\"%H:%M:%S\", errors='coerce').apply(lambda x: x.hour)\n",
        "\n",
        "dados_acidentes"
      ],
      "execution_count": 7,
      "outputs": [
        {
          "output_type": "execute_result",
          "data": {
            "text/html": [
              "<div>\n",
              "<style scoped>\n",
              "    .dataframe tbody tr th:only-of-type {\n",
              "        vertical-align: middle;\n",
              "    }\n",
              "\n",
              "    .dataframe tbody tr th {\n",
              "        vertical-align: top;\n",
              "    }\n",
              "\n",
              "    .dataframe thead th {\n",
              "        text-align: right;\n",
              "    }\n",
              "</style>\n",
              "<table border=\"1\" class=\"dataframe\">\n",
              "  <thead>\n",
              "    <tr style=\"text-align: right;\">\n",
              "      <th></th>\n",
              "      <th>DATA</th>\n",
              "      <th>hora</th>\n",
              "      <th>natureza_acidente</th>\n",
              "      <th>bairro</th>\n",
              "      <th>tipo</th>\n",
              "      <th>dia_da_semana</th>\n",
              "      <th>mes</th>\n",
              "      <th>ano</th>\n",
              "      <th>hora_bruta</th>\n",
              "    </tr>\n",
              "  </thead>\n",
              "  <tbody>\n",
              "    <tr>\n",
              "      <th>0</th>\n",
              "      <td>2019-01-01</td>\n",
              "      <td>00:41:00</td>\n",
              "      <td>SEM VÍTIMA</td>\n",
              "      <td>IPSEP</td>\n",
              "      <td>COLISÃO TRASEIRA</td>\n",
              "      <td>1</td>\n",
              "      <td>1</td>\n",
              "      <td>2019</td>\n",
              "      <td>0.0</td>\n",
              "    </tr>\n",
              "    <tr>\n",
              "      <th>1</th>\n",
              "      <td>2019-01-01</td>\n",
              "      <td>01:37:00</td>\n",
              "      <td>SEM VÍTIMA</td>\n",
              "      <td>BOA VIAGEM</td>\n",
              "      <td>ABALROAMENTO TRANSVERSAL</td>\n",
              "      <td>1</td>\n",
              "      <td>1</td>\n",
              "      <td>2019</td>\n",
              "      <td>1.0</td>\n",
              "    </tr>\n",
              "    <tr>\n",
              "      <th>2</th>\n",
              "      <td>2019-01-01</td>\n",
              "      <td>14:20:00</td>\n",
              "      <td>SEM VÍTIMA</td>\n",
              "      <td>BOA VIAGEM</td>\n",
              "      <td>COLISÃO</td>\n",
              "      <td>1</td>\n",
              "      <td>1</td>\n",
              "      <td>2019</td>\n",
              "      <td>14.0</td>\n",
              "    </tr>\n",
              "    <tr>\n",
              "      <th>3</th>\n",
              "      <td>2019-01-01</td>\n",
              "      <td>02:53:00</td>\n",
              "      <td>SEM VÍTIMA</td>\n",
              "      <td>IMBIRIBEIRA</td>\n",
              "      <td>COLISÃO</td>\n",
              "      <td>1</td>\n",
              "      <td>1</td>\n",
              "      <td>2019</td>\n",
              "      <td>2.0</td>\n",
              "    </tr>\n",
              "    <tr>\n",
              "      <th>4</th>\n",
              "      <td>2019-01-01</td>\n",
              "      <td>08:17:00</td>\n",
              "      <td>COM VÍTIMA</td>\n",
              "      <td>JAQUEIRA</td>\n",
              "      <td>COLISÃO COM CICLISTA</td>\n",
              "      <td>1</td>\n",
              "      <td>1</td>\n",
              "      <td>2019</td>\n",
              "      <td>8.0</td>\n",
              "    </tr>\n",
              "    <tr>\n",
              "      <th>...</th>\n",
              "      <td>...</td>\n",
              "      <td>...</td>\n",
              "      <td>...</td>\n",
              "      <td>...</td>\n",
              "      <td>...</td>\n",
              "      <td>...</td>\n",
              "      <td>...</td>\n",
              "      <td>...</td>\n",
              "      <td>...</td>\n",
              "    </tr>\n",
              "    <tr>\n",
              "      <th>35265</th>\n",
              "      <td>2016-11-16</td>\n",
              "      <td>21:01:00</td>\n",
              "      <td>VÍTIMA FATAL</td>\n",
              "      <td>ILHA DO RETIRO</td>\n",
              "      <td>ATROPELAMENTO</td>\n",
              "      <td>2</td>\n",
              "      <td>11</td>\n",
              "      <td>2016</td>\n",
              "      <td>21.0</td>\n",
              "    </tr>\n",
              "    <tr>\n",
              "      <th>35266</th>\n",
              "      <td>2016-11-24</td>\n",
              "      <td>10:23:00</td>\n",
              "      <td>VÍTIMA FATAL</td>\n",
              "      <td>TORRÕES</td>\n",
              "      <td>COLISÃO COM CICLISTA</td>\n",
              "      <td>3</td>\n",
              "      <td>11</td>\n",
              "      <td>2016</td>\n",
              "      <td>10.0</td>\n",
              "    </tr>\n",
              "    <tr>\n",
              "      <th>35267</th>\n",
              "      <td>2016-11-24</td>\n",
              "      <td>11:59:00</td>\n",
              "      <td>VÍTIMA FATAL</td>\n",
              "      <td>AFOGADOS</td>\n",
              "      <td>ATROPELAMENTO</td>\n",
              "      <td>3</td>\n",
              "      <td>11</td>\n",
              "      <td>2016</td>\n",
              "      <td>11.0</td>\n",
              "    </tr>\n",
              "    <tr>\n",
              "      <th>35268</th>\n",
              "      <td>2016-12-27</td>\n",
              "      <td>11:26:00</td>\n",
              "      <td>VÍTIMA FATAL</td>\n",
              "      <td>CORDEIRO</td>\n",
              "      <td>ATROPELAMENTO</td>\n",
              "      <td>1</td>\n",
              "      <td>12</td>\n",
              "      <td>2016</td>\n",
              "      <td>11.0</td>\n",
              "    </tr>\n",
              "    <tr>\n",
              "      <th>35269</th>\n",
              "      <td>2016-12-30</td>\n",
              "      <td>14:30:00</td>\n",
              "      <td>VÍTIMA FATAL</td>\n",
              "      <td>VÁRZEA</td>\n",
              "      <td>COLISÃO</td>\n",
              "      <td>4</td>\n",
              "      <td>12</td>\n",
              "      <td>2016</td>\n",
              "      <td>14.0</td>\n",
              "    </tr>\n",
              "  </tbody>\n",
              "</table>\n",
              "<p>35270 rows × 9 columns</p>\n",
              "</div>"
            ],
            "text/plain": [
              "             DATA      hora natureza_acidente  ... mes   ano  hora_bruta\n",
              "0      2019-01-01  00:41:00        SEM VÍTIMA  ...   1  2019         0.0\n",
              "1      2019-01-01  01:37:00        SEM VÍTIMA  ...   1  2019         1.0\n",
              "2      2019-01-01  14:20:00        SEM VÍTIMA  ...   1  2019        14.0\n",
              "3      2019-01-01  02:53:00        SEM VÍTIMA  ...   1  2019         2.0\n",
              "4      2019-01-01  08:17:00        COM VÍTIMA  ...   1  2019         8.0\n",
              "...           ...       ...               ...  ...  ..   ...         ...\n",
              "35265  2016-11-16  21:01:00      VÍTIMA FATAL  ...  11  2016        21.0\n",
              "35266  2016-11-24  10:23:00      VÍTIMA FATAL  ...  11  2016        10.0\n",
              "35267  2016-11-24  11:59:00      VÍTIMA FATAL  ...  11  2016        11.0\n",
              "35268  2016-12-27  11:26:00      VÍTIMA FATAL  ...  12  2016        11.0\n",
              "35269  2016-12-30  14:30:00      VÍTIMA FATAL  ...  12  2016        14.0\n",
              "\n",
              "[35270 rows x 9 columns]"
            ]
          },
          "metadata": {
            "tags": []
          },
          "execution_count": 7
        }
      ]
    },
    {
      "cell_type": "code",
      "metadata": {
        "id": "ZRL9RP_wZIgM"
      },
      "source": [
        ""
      ],
      "execution_count": null,
      "outputs": []
    },
    {
      "cell_type": "code",
      "metadata": {
        "id": "ToJbOy4XZX-M",
        "colab": {
          "base_uri": "https://localhost:8080/",
          "height": 424
        },
        "outputId": "19a4120f-f8e6-4115-e55c-c5255b0ebf7d"
      },
      "source": [
        "#remove as colunas de data e hora\n",
        "dados_acidentes.drop(columns=['DATA', 'hora'], inplace=True)\n",
        "dados_acidentes"
      ],
      "execution_count": 8,
      "outputs": [
        {
          "output_type": "execute_result",
          "data": {
            "text/html": [
              "<div>\n",
              "<style scoped>\n",
              "    .dataframe tbody tr th:only-of-type {\n",
              "        vertical-align: middle;\n",
              "    }\n",
              "\n",
              "    .dataframe tbody tr th {\n",
              "        vertical-align: top;\n",
              "    }\n",
              "\n",
              "    .dataframe thead th {\n",
              "        text-align: right;\n",
              "    }\n",
              "</style>\n",
              "<table border=\"1\" class=\"dataframe\">\n",
              "  <thead>\n",
              "    <tr style=\"text-align: right;\">\n",
              "      <th></th>\n",
              "      <th>natureza_acidente</th>\n",
              "      <th>bairro</th>\n",
              "      <th>tipo</th>\n",
              "      <th>dia_da_semana</th>\n",
              "      <th>mes</th>\n",
              "      <th>ano</th>\n",
              "      <th>hora_bruta</th>\n",
              "    </tr>\n",
              "  </thead>\n",
              "  <tbody>\n",
              "    <tr>\n",
              "      <th>0</th>\n",
              "      <td>SEM VÍTIMA</td>\n",
              "      <td>IPSEP</td>\n",
              "      <td>COLISÃO TRASEIRA</td>\n",
              "      <td>1</td>\n",
              "      <td>1</td>\n",
              "      <td>2019</td>\n",
              "      <td>0.0</td>\n",
              "    </tr>\n",
              "    <tr>\n",
              "      <th>1</th>\n",
              "      <td>SEM VÍTIMA</td>\n",
              "      <td>BOA VIAGEM</td>\n",
              "      <td>ABALROAMENTO TRANSVERSAL</td>\n",
              "      <td>1</td>\n",
              "      <td>1</td>\n",
              "      <td>2019</td>\n",
              "      <td>1.0</td>\n",
              "    </tr>\n",
              "    <tr>\n",
              "      <th>2</th>\n",
              "      <td>SEM VÍTIMA</td>\n",
              "      <td>BOA VIAGEM</td>\n",
              "      <td>COLISÃO</td>\n",
              "      <td>1</td>\n",
              "      <td>1</td>\n",
              "      <td>2019</td>\n",
              "      <td>14.0</td>\n",
              "    </tr>\n",
              "    <tr>\n",
              "      <th>3</th>\n",
              "      <td>SEM VÍTIMA</td>\n",
              "      <td>IMBIRIBEIRA</td>\n",
              "      <td>COLISÃO</td>\n",
              "      <td>1</td>\n",
              "      <td>1</td>\n",
              "      <td>2019</td>\n",
              "      <td>2.0</td>\n",
              "    </tr>\n",
              "    <tr>\n",
              "      <th>4</th>\n",
              "      <td>COM VÍTIMA</td>\n",
              "      <td>JAQUEIRA</td>\n",
              "      <td>COLISÃO COM CICLISTA</td>\n",
              "      <td>1</td>\n",
              "      <td>1</td>\n",
              "      <td>2019</td>\n",
              "      <td>8.0</td>\n",
              "    </tr>\n",
              "    <tr>\n",
              "      <th>...</th>\n",
              "      <td>...</td>\n",
              "      <td>...</td>\n",
              "      <td>...</td>\n",
              "      <td>...</td>\n",
              "      <td>...</td>\n",
              "      <td>...</td>\n",
              "      <td>...</td>\n",
              "    </tr>\n",
              "    <tr>\n",
              "      <th>35265</th>\n",
              "      <td>VÍTIMA FATAL</td>\n",
              "      <td>ILHA DO RETIRO</td>\n",
              "      <td>ATROPELAMENTO</td>\n",
              "      <td>2</td>\n",
              "      <td>11</td>\n",
              "      <td>2016</td>\n",
              "      <td>21.0</td>\n",
              "    </tr>\n",
              "    <tr>\n",
              "      <th>35266</th>\n",
              "      <td>VÍTIMA FATAL</td>\n",
              "      <td>TORRÕES</td>\n",
              "      <td>COLISÃO COM CICLISTA</td>\n",
              "      <td>3</td>\n",
              "      <td>11</td>\n",
              "      <td>2016</td>\n",
              "      <td>10.0</td>\n",
              "    </tr>\n",
              "    <tr>\n",
              "      <th>35267</th>\n",
              "      <td>VÍTIMA FATAL</td>\n",
              "      <td>AFOGADOS</td>\n",
              "      <td>ATROPELAMENTO</td>\n",
              "      <td>3</td>\n",
              "      <td>11</td>\n",
              "      <td>2016</td>\n",
              "      <td>11.0</td>\n",
              "    </tr>\n",
              "    <tr>\n",
              "      <th>35268</th>\n",
              "      <td>VÍTIMA FATAL</td>\n",
              "      <td>CORDEIRO</td>\n",
              "      <td>ATROPELAMENTO</td>\n",
              "      <td>1</td>\n",
              "      <td>12</td>\n",
              "      <td>2016</td>\n",
              "      <td>11.0</td>\n",
              "    </tr>\n",
              "    <tr>\n",
              "      <th>35269</th>\n",
              "      <td>VÍTIMA FATAL</td>\n",
              "      <td>VÁRZEA</td>\n",
              "      <td>COLISÃO</td>\n",
              "      <td>4</td>\n",
              "      <td>12</td>\n",
              "      <td>2016</td>\n",
              "      <td>14.0</td>\n",
              "    </tr>\n",
              "  </tbody>\n",
              "</table>\n",
              "<p>35270 rows × 7 columns</p>\n",
              "</div>"
            ],
            "text/plain": [
              "      natureza_acidente          bairro  ...   ano  hora_bruta\n",
              "0            SEM VÍTIMA           IPSEP  ...  2019         0.0\n",
              "1            SEM VÍTIMA      BOA VIAGEM  ...  2019         1.0\n",
              "2            SEM VÍTIMA      BOA VIAGEM  ...  2019        14.0\n",
              "3            SEM VÍTIMA     IMBIRIBEIRA  ...  2019         2.0\n",
              "4            COM VÍTIMA        JAQUEIRA  ...  2019         8.0\n",
              "...                 ...             ...  ...   ...         ...\n",
              "35265      VÍTIMA FATAL  ILHA DO RETIRO  ...  2016        21.0\n",
              "35266      VÍTIMA FATAL         TORRÕES  ...  2016        10.0\n",
              "35267      VÍTIMA FATAL        AFOGADOS  ...  2016        11.0\n",
              "35268      VÍTIMA FATAL        CORDEIRO  ...  2016        11.0\n",
              "35269      VÍTIMA FATAL          VÁRZEA  ...  2016        14.0\n",
              "\n",
              "[35270 rows x 7 columns]"
            ]
          },
          "metadata": {
            "tags": []
          },
          "execution_count": 8
        }
      ]
    },
    {
      "cell_type": "code",
      "metadata": {
        "id": "ZCYrCHtDd7IL"
      },
      "source": [
        "#limpeza dos dados\n",
        "dados_acidentes['bairro'].replace(['BOMBA DO HEMETERIO', 'JOANA BEZERRA', 'IPESEP', 'FABIO'], ['BOMBA DO HEMETÉRIO', 'ILHA JOANA BEZERRA', 'IPSEP', np.nan], inplace=True)\n",
        "dados_acidentes['natureza_acidente'].replace(['APOIO', 'ENTRADA E SAÍDA'], [np.nan, np.nan], inplace=True)\n",
        "dados_acidentes['tipo'].replace(['SUBURBIO', 'SANTO AMARO', '0', 'COLISAO', 'NATUREZA'], [np.nan, np.nan, np.nan, 'COLISÃO', np.nan], inplace=True)"
      ],
      "execution_count": 9,
      "outputs": []
    },
    {
      "cell_type": "code",
      "metadata": {
        "id": "LC9jCyMQYtMY"
      },
      "source": [
        ""
      ],
      "execution_count": null,
      "outputs": []
    },
    {
      "cell_type": "code",
      "metadata": {
        "id": "TSkkgm94ZK5W",
        "colab": {
          "base_uri": "https://localhost:8080/",
          "height": 424
        },
        "outputId": "7f8dc38b-b8dd-434f-a28f-fed7c19fd261"
      },
      "source": [
        "dados_acidentes"
      ],
      "execution_count": null,
      "outputs": [
        {
          "output_type": "execute_result",
          "data": {
            "text/html": [
              "<div>\n",
              "<style scoped>\n",
              "    .dataframe tbody tr th:only-of-type {\n",
              "        vertical-align: middle;\n",
              "    }\n",
              "\n",
              "    .dataframe tbody tr th {\n",
              "        vertical-align: top;\n",
              "    }\n",
              "\n",
              "    .dataframe thead th {\n",
              "        text-align: right;\n",
              "    }\n",
              "</style>\n",
              "<table border=\"1\" class=\"dataframe\">\n",
              "  <thead>\n",
              "    <tr style=\"text-align: right;\">\n",
              "      <th></th>\n",
              "      <th>natureza_acidente</th>\n",
              "      <th>bairro</th>\n",
              "      <th>tipo</th>\n",
              "      <th>dia_da_semana</th>\n",
              "      <th>mes</th>\n",
              "      <th>ano</th>\n",
              "      <th>hora_bruta</th>\n",
              "    </tr>\n",
              "  </thead>\n",
              "  <tbody>\n",
              "    <tr>\n",
              "      <th>0</th>\n",
              "      <td>SEM VÍTIMA</td>\n",
              "      <td>IPSEP</td>\n",
              "      <td>COLISÃO TRASEIRA</td>\n",
              "      <td>1</td>\n",
              "      <td>1</td>\n",
              "      <td>2019</td>\n",
              "      <td>0.0</td>\n",
              "    </tr>\n",
              "    <tr>\n",
              "      <th>1</th>\n",
              "      <td>SEM VÍTIMA</td>\n",
              "      <td>BOA VIAGEM</td>\n",
              "      <td>ABALROAMENTO TRANSVERSAL</td>\n",
              "      <td>1</td>\n",
              "      <td>1</td>\n",
              "      <td>2019</td>\n",
              "      <td>1.0</td>\n",
              "    </tr>\n",
              "    <tr>\n",
              "      <th>2</th>\n",
              "      <td>SEM VÍTIMA</td>\n",
              "      <td>BOA VIAGEM</td>\n",
              "      <td>COLISÃO</td>\n",
              "      <td>1</td>\n",
              "      <td>1</td>\n",
              "      <td>2019</td>\n",
              "      <td>14.0</td>\n",
              "    </tr>\n",
              "    <tr>\n",
              "      <th>3</th>\n",
              "      <td>SEM VÍTIMA</td>\n",
              "      <td>IMBIRIBEIRA</td>\n",
              "      <td>COLISÃO</td>\n",
              "      <td>1</td>\n",
              "      <td>1</td>\n",
              "      <td>2019</td>\n",
              "      <td>2.0</td>\n",
              "    </tr>\n",
              "    <tr>\n",
              "      <th>4</th>\n",
              "      <td>COM VÍTIMA</td>\n",
              "      <td>JAQUEIRA</td>\n",
              "      <td>COLISÃO COM CICLISTA</td>\n",
              "      <td>1</td>\n",
              "      <td>1</td>\n",
              "      <td>2019</td>\n",
              "      <td>8.0</td>\n",
              "    </tr>\n",
              "    <tr>\n",
              "      <th>...</th>\n",
              "      <td>...</td>\n",
              "      <td>...</td>\n",
              "      <td>...</td>\n",
              "      <td>...</td>\n",
              "      <td>...</td>\n",
              "      <td>...</td>\n",
              "      <td>...</td>\n",
              "    </tr>\n",
              "    <tr>\n",
              "      <th>35265</th>\n",
              "      <td>VÍTIMA FATAL</td>\n",
              "      <td>ILHA DO RETIRO</td>\n",
              "      <td>ATROPELAMENTO</td>\n",
              "      <td>2</td>\n",
              "      <td>11</td>\n",
              "      <td>2016</td>\n",
              "      <td>21.0</td>\n",
              "    </tr>\n",
              "    <tr>\n",
              "      <th>35266</th>\n",
              "      <td>VÍTIMA FATAL</td>\n",
              "      <td>TORRÕES</td>\n",
              "      <td>COLISÃO COM CICLISTA</td>\n",
              "      <td>3</td>\n",
              "      <td>11</td>\n",
              "      <td>2016</td>\n",
              "      <td>10.0</td>\n",
              "    </tr>\n",
              "    <tr>\n",
              "      <th>35267</th>\n",
              "      <td>VÍTIMA FATAL</td>\n",
              "      <td>AFOGADOS</td>\n",
              "      <td>ATROPELAMENTO</td>\n",
              "      <td>3</td>\n",
              "      <td>11</td>\n",
              "      <td>2016</td>\n",
              "      <td>11.0</td>\n",
              "    </tr>\n",
              "    <tr>\n",
              "      <th>35268</th>\n",
              "      <td>VÍTIMA FATAL</td>\n",
              "      <td>CORDEIRO</td>\n",
              "      <td>ATROPELAMENTO</td>\n",
              "      <td>1</td>\n",
              "      <td>12</td>\n",
              "      <td>2016</td>\n",
              "      <td>11.0</td>\n",
              "    </tr>\n",
              "    <tr>\n",
              "      <th>35269</th>\n",
              "      <td>VÍTIMA FATAL</td>\n",
              "      <td>VÁRZEA</td>\n",
              "      <td>COLISÃO</td>\n",
              "      <td>4</td>\n",
              "      <td>12</td>\n",
              "      <td>2016</td>\n",
              "      <td>14.0</td>\n",
              "    </tr>\n",
              "  </tbody>\n",
              "</table>\n",
              "<p>35270 rows × 7 columns</p>\n",
              "</div>"
            ],
            "text/plain": [
              "      natureza_acidente          bairro  ...   ano  hora_bruta\n",
              "0            SEM VÍTIMA           IPSEP  ...  2019         0.0\n",
              "1            SEM VÍTIMA      BOA VIAGEM  ...  2019         1.0\n",
              "2            SEM VÍTIMA      BOA VIAGEM  ...  2019        14.0\n",
              "3            SEM VÍTIMA     IMBIRIBEIRA  ...  2019         2.0\n",
              "4            COM VÍTIMA        JAQUEIRA  ...  2019         8.0\n",
              "...                 ...             ...  ...   ...         ...\n",
              "35265      VÍTIMA FATAL  ILHA DO RETIRO  ...  2016        21.0\n",
              "35266      VÍTIMA FATAL         TORRÕES  ...  2016        10.0\n",
              "35267      VÍTIMA FATAL        AFOGADOS  ...  2016        11.0\n",
              "35268      VÍTIMA FATAL        CORDEIRO  ...  2016        11.0\n",
              "35269      VÍTIMA FATAL          VÁRZEA  ...  2016        14.0\n",
              "\n",
              "[35270 rows x 7 columns]"
            ]
          },
          "metadata": {
            "tags": []
          },
          "execution_count": 16
        }
      ]
    },
    {
      "cell_type": "code",
      "metadata": {
        "id": "hnm1Q7tagiU8",
        "colab": {
          "base_uri": "https://localhost:8080/",
          "height": 424
        },
        "outputId": "bbb5d0c2-2831-4c03-e999-72667fcffca5"
      },
      "source": [
        "#tratamento de NA e categorização\n",
        "\n",
        "categories_list = ['natureza_acidente', 'bairro', 'tipo', 'condicao_via']\n",
        "\n",
        "dados_acidentes['natureza_acidente'].fillna('SEM VÍTIMA', inplace=True)\n",
        "dados_acidentes = dados_acidentes.apply(lambda x: x.fillna('Não informado') if x.name in categories_list else x)\n",
        "dados_acidentes = dados_acidentes.apply(lambda x: x.astype('category') if x.name in categories_list else x)\n",
        "\n",
        "dados_acidentes"
      ],
      "execution_count": 10,
      "outputs": [
        {
          "output_type": "execute_result",
          "data": {
            "text/html": [
              "<div>\n",
              "<style scoped>\n",
              "    .dataframe tbody tr th:only-of-type {\n",
              "        vertical-align: middle;\n",
              "    }\n",
              "\n",
              "    .dataframe tbody tr th {\n",
              "        vertical-align: top;\n",
              "    }\n",
              "\n",
              "    .dataframe thead th {\n",
              "        text-align: right;\n",
              "    }\n",
              "</style>\n",
              "<table border=\"1\" class=\"dataframe\">\n",
              "  <thead>\n",
              "    <tr style=\"text-align: right;\">\n",
              "      <th></th>\n",
              "      <th>natureza_acidente</th>\n",
              "      <th>bairro</th>\n",
              "      <th>tipo</th>\n",
              "      <th>dia_da_semana</th>\n",
              "      <th>mes</th>\n",
              "      <th>ano</th>\n",
              "      <th>hora_bruta</th>\n",
              "    </tr>\n",
              "  </thead>\n",
              "  <tbody>\n",
              "    <tr>\n",
              "      <th>0</th>\n",
              "      <td>SEM VÍTIMA</td>\n",
              "      <td>IPSEP</td>\n",
              "      <td>COLISÃO TRASEIRA</td>\n",
              "      <td>1</td>\n",
              "      <td>1</td>\n",
              "      <td>2019</td>\n",
              "      <td>0.0</td>\n",
              "    </tr>\n",
              "    <tr>\n",
              "      <th>1</th>\n",
              "      <td>SEM VÍTIMA</td>\n",
              "      <td>BOA VIAGEM</td>\n",
              "      <td>ABALROAMENTO TRANSVERSAL</td>\n",
              "      <td>1</td>\n",
              "      <td>1</td>\n",
              "      <td>2019</td>\n",
              "      <td>1.0</td>\n",
              "    </tr>\n",
              "    <tr>\n",
              "      <th>2</th>\n",
              "      <td>SEM VÍTIMA</td>\n",
              "      <td>BOA VIAGEM</td>\n",
              "      <td>COLISÃO</td>\n",
              "      <td>1</td>\n",
              "      <td>1</td>\n",
              "      <td>2019</td>\n",
              "      <td>14.0</td>\n",
              "    </tr>\n",
              "    <tr>\n",
              "      <th>3</th>\n",
              "      <td>SEM VÍTIMA</td>\n",
              "      <td>IMBIRIBEIRA</td>\n",
              "      <td>COLISÃO</td>\n",
              "      <td>1</td>\n",
              "      <td>1</td>\n",
              "      <td>2019</td>\n",
              "      <td>2.0</td>\n",
              "    </tr>\n",
              "    <tr>\n",
              "      <th>4</th>\n",
              "      <td>COM VÍTIMA</td>\n",
              "      <td>JAQUEIRA</td>\n",
              "      <td>COLISÃO COM CICLISTA</td>\n",
              "      <td>1</td>\n",
              "      <td>1</td>\n",
              "      <td>2019</td>\n",
              "      <td>8.0</td>\n",
              "    </tr>\n",
              "    <tr>\n",
              "      <th>...</th>\n",
              "      <td>...</td>\n",
              "      <td>...</td>\n",
              "      <td>...</td>\n",
              "      <td>...</td>\n",
              "      <td>...</td>\n",
              "      <td>...</td>\n",
              "      <td>...</td>\n",
              "    </tr>\n",
              "    <tr>\n",
              "      <th>35265</th>\n",
              "      <td>VÍTIMA FATAL</td>\n",
              "      <td>ILHA DO RETIRO</td>\n",
              "      <td>ATROPELAMENTO</td>\n",
              "      <td>2</td>\n",
              "      <td>11</td>\n",
              "      <td>2016</td>\n",
              "      <td>21.0</td>\n",
              "    </tr>\n",
              "    <tr>\n",
              "      <th>35266</th>\n",
              "      <td>VÍTIMA FATAL</td>\n",
              "      <td>TORRÕES</td>\n",
              "      <td>COLISÃO COM CICLISTA</td>\n",
              "      <td>3</td>\n",
              "      <td>11</td>\n",
              "      <td>2016</td>\n",
              "      <td>10.0</td>\n",
              "    </tr>\n",
              "    <tr>\n",
              "      <th>35267</th>\n",
              "      <td>VÍTIMA FATAL</td>\n",
              "      <td>AFOGADOS</td>\n",
              "      <td>ATROPELAMENTO</td>\n",
              "      <td>3</td>\n",
              "      <td>11</td>\n",
              "      <td>2016</td>\n",
              "      <td>11.0</td>\n",
              "    </tr>\n",
              "    <tr>\n",
              "      <th>35268</th>\n",
              "      <td>VÍTIMA FATAL</td>\n",
              "      <td>CORDEIRO</td>\n",
              "      <td>ATROPELAMENTO</td>\n",
              "      <td>1</td>\n",
              "      <td>12</td>\n",
              "      <td>2016</td>\n",
              "      <td>11.0</td>\n",
              "    </tr>\n",
              "    <tr>\n",
              "      <th>35269</th>\n",
              "      <td>VÍTIMA FATAL</td>\n",
              "      <td>VÁRZEA</td>\n",
              "      <td>COLISÃO</td>\n",
              "      <td>4</td>\n",
              "      <td>12</td>\n",
              "      <td>2016</td>\n",
              "      <td>14.0</td>\n",
              "    </tr>\n",
              "  </tbody>\n",
              "</table>\n",
              "<p>35270 rows × 7 columns</p>\n",
              "</div>"
            ],
            "text/plain": [
              "      natureza_acidente          bairro  ...   ano  hora_bruta\n",
              "0            SEM VÍTIMA           IPSEP  ...  2019         0.0\n",
              "1            SEM VÍTIMA      BOA VIAGEM  ...  2019         1.0\n",
              "2            SEM VÍTIMA      BOA VIAGEM  ...  2019        14.0\n",
              "3            SEM VÍTIMA     IMBIRIBEIRA  ...  2019         2.0\n",
              "4            COM VÍTIMA        JAQUEIRA  ...  2019         8.0\n",
              "...                 ...             ...  ...   ...         ...\n",
              "35265      VÍTIMA FATAL  ILHA DO RETIRO  ...  2016        21.0\n",
              "35266      VÍTIMA FATAL         TORRÕES  ...  2016        10.0\n",
              "35267      VÍTIMA FATAL        AFOGADOS  ...  2016        11.0\n",
              "35268      VÍTIMA FATAL        CORDEIRO  ...  2016        11.0\n",
              "35269      VÍTIMA FATAL          VÁRZEA  ...  2016        14.0\n",
              "\n",
              "[35270 rows x 7 columns]"
            ]
          },
          "metadata": {
            "tags": []
          },
          "execution_count": 10
        }
      ]
    },
    {
      "cell_type": "code",
      "metadata": {
        "id": "ePMsEnvEy9TK",
        "colab": {
          "base_uri": "https://localhost:8080/",
          "height": 424
        },
        "outputId": "f0dee708-6a10-44da-c0df-6f17d7d34499"
      },
      "source": [
        "dados_acidentes_completos = dados_acidentes[(dados_acidentes != 'Não informado').all(axis=1)]\n",
        "dados_acidentes_completos = dados_acidentes.dropna()\n",
        "dados_acidentes_completos"
      ],
      "execution_count": 11,
      "outputs": [
        {
          "output_type": "execute_result",
          "data": {
            "text/html": [
              "<div>\n",
              "<style scoped>\n",
              "    .dataframe tbody tr th:only-of-type {\n",
              "        vertical-align: middle;\n",
              "    }\n",
              "\n",
              "    .dataframe tbody tr th {\n",
              "        vertical-align: top;\n",
              "    }\n",
              "\n",
              "    .dataframe thead th {\n",
              "        text-align: right;\n",
              "    }\n",
              "</style>\n",
              "<table border=\"1\" class=\"dataframe\">\n",
              "  <thead>\n",
              "    <tr style=\"text-align: right;\">\n",
              "      <th></th>\n",
              "      <th>natureza_acidente</th>\n",
              "      <th>bairro</th>\n",
              "      <th>tipo</th>\n",
              "      <th>dia_da_semana</th>\n",
              "      <th>mes</th>\n",
              "      <th>ano</th>\n",
              "      <th>hora_bruta</th>\n",
              "    </tr>\n",
              "  </thead>\n",
              "  <tbody>\n",
              "    <tr>\n",
              "      <th>0</th>\n",
              "      <td>SEM VÍTIMA</td>\n",
              "      <td>IPSEP</td>\n",
              "      <td>COLISÃO TRASEIRA</td>\n",
              "      <td>1</td>\n",
              "      <td>1</td>\n",
              "      <td>2019</td>\n",
              "      <td>0.0</td>\n",
              "    </tr>\n",
              "    <tr>\n",
              "      <th>1</th>\n",
              "      <td>SEM VÍTIMA</td>\n",
              "      <td>BOA VIAGEM</td>\n",
              "      <td>ABALROAMENTO TRANSVERSAL</td>\n",
              "      <td>1</td>\n",
              "      <td>1</td>\n",
              "      <td>2019</td>\n",
              "      <td>1.0</td>\n",
              "    </tr>\n",
              "    <tr>\n",
              "      <th>2</th>\n",
              "      <td>SEM VÍTIMA</td>\n",
              "      <td>BOA VIAGEM</td>\n",
              "      <td>COLISÃO</td>\n",
              "      <td>1</td>\n",
              "      <td>1</td>\n",
              "      <td>2019</td>\n",
              "      <td>14.0</td>\n",
              "    </tr>\n",
              "    <tr>\n",
              "      <th>3</th>\n",
              "      <td>SEM VÍTIMA</td>\n",
              "      <td>IMBIRIBEIRA</td>\n",
              "      <td>COLISÃO</td>\n",
              "      <td>1</td>\n",
              "      <td>1</td>\n",
              "      <td>2019</td>\n",
              "      <td>2.0</td>\n",
              "    </tr>\n",
              "    <tr>\n",
              "      <th>4</th>\n",
              "      <td>COM VÍTIMA</td>\n",
              "      <td>JAQUEIRA</td>\n",
              "      <td>COLISÃO COM CICLISTA</td>\n",
              "      <td>1</td>\n",
              "      <td>1</td>\n",
              "      <td>2019</td>\n",
              "      <td>8.0</td>\n",
              "    </tr>\n",
              "    <tr>\n",
              "      <th>...</th>\n",
              "      <td>...</td>\n",
              "      <td>...</td>\n",
              "      <td>...</td>\n",
              "      <td>...</td>\n",
              "      <td>...</td>\n",
              "      <td>...</td>\n",
              "      <td>...</td>\n",
              "    </tr>\n",
              "    <tr>\n",
              "      <th>35265</th>\n",
              "      <td>VÍTIMA FATAL</td>\n",
              "      <td>ILHA DO RETIRO</td>\n",
              "      <td>ATROPELAMENTO</td>\n",
              "      <td>2</td>\n",
              "      <td>11</td>\n",
              "      <td>2016</td>\n",
              "      <td>21.0</td>\n",
              "    </tr>\n",
              "    <tr>\n",
              "      <th>35266</th>\n",
              "      <td>VÍTIMA FATAL</td>\n",
              "      <td>TORRÕES</td>\n",
              "      <td>COLISÃO COM CICLISTA</td>\n",
              "      <td>3</td>\n",
              "      <td>11</td>\n",
              "      <td>2016</td>\n",
              "      <td>10.0</td>\n",
              "    </tr>\n",
              "    <tr>\n",
              "      <th>35267</th>\n",
              "      <td>VÍTIMA FATAL</td>\n",
              "      <td>AFOGADOS</td>\n",
              "      <td>ATROPELAMENTO</td>\n",
              "      <td>3</td>\n",
              "      <td>11</td>\n",
              "      <td>2016</td>\n",
              "      <td>11.0</td>\n",
              "    </tr>\n",
              "    <tr>\n",
              "      <th>35268</th>\n",
              "      <td>VÍTIMA FATAL</td>\n",
              "      <td>CORDEIRO</td>\n",
              "      <td>ATROPELAMENTO</td>\n",
              "      <td>1</td>\n",
              "      <td>12</td>\n",
              "      <td>2016</td>\n",
              "      <td>11.0</td>\n",
              "    </tr>\n",
              "    <tr>\n",
              "      <th>35269</th>\n",
              "      <td>VÍTIMA FATAL</td>\n",
              "      <td>VÁRZEA</td>\n",
              "      <td>COLISÃO</td>\n",
              "      <td>4</td>\n",
              "      <td>12</td>\n",
              "      <td>2016</td>\n",
              "      <td>14.0</td>\n",
              "    </tr>\n",
              "  </tbody>\n",
              "</table>\n",
              "<p>35212 rows × 7 columns</p>\n",
              "</div>"
            ],
            "text/plain": [
              "      natureza_acidente          bairro  ...   ano  hora_bruta\n",
              "0            SEM VÍTIMA           IPSEP  ...  2019         0.0\n",
              "1            SEM VÍTIMA      BOA VIAGEM  ...  2019         1.0\n",
              "2            SEM VÍTIMA      BOA VIAGEM  ...  2019        14.0\n",
              "3            SEM VÍTIMA     IMBIRIBEIRA  ...  2019         2.0\n",
              "4            COM VÍTIMA        JAQUEIRA  ...  2019         8.0\n",
              "...                 ...             ...  ...   ...         ...\n",
              "35265      VÍTIMA FATAL  ILHA DO RETIRO  ...  2016        21.0\n",
              "35266      VÍTIMA FATAL         TORRÕES  ...  2016        10.0\n",
              "35267      VÍTIMA FATAL        AFOGADOS  ...  2016        11.0\n",
              "35268      VÍTIMA FATAL        CORDEIRO  ...  2016        11.0\n",
              "35269      VÍTIMA FATAL          VÁRZEA  ...  2016        14.0\n",
              "\n",
              "[35212 rows x 7 columns]"
            ]
          },
          "metadata": {
            "tags": []
          },
          "execution_count": 11
        }
      ]
    },
    {
      "cell_type": "code",
      "metadata": {
        "id": "MUo7bpA-1PKT",
        "colab": {
          "base_uri": "https://localhost:8080/",
          "height": 424
        },
        "outputId": "86adcaf2-8373-47e8-cf9c-fc656213bd61"
      },
      "source": [
        "dados_acidentes_completos.reset_index(drop=True, inplace=True)\n",
        "dados_acidentes_completos"
      ],
      "execution_count": 12,
      "outputs": [
        {
          "output_type": "execute_result",
          "data": {
            "text/html": [
              "<div>\n",
              "<style scoped>\n",
              "    .dataframe tbody tr th:only-of-type {\n",
              "        vertical-align: middle;\n",
              "    }\n",
              "\n",
              "    .dataframe tbody tr th {\n",
              "        vertical-align: top;\n",
              "    }\n",
              "\n",
              "    .dataframe thead th {\n",
              "        text-align: right;\n",
              "    }\n",
              "</style>\n",
              "<table border=\"1\" class=\"dataframe\">\n",
              "  <thead>\n",
              "    <tr style=\"text-align: right;\">\n",
              "      <th></th>\n",
              "      <th>natureza_acidente</th>\n",
              "      <th>bairro</th>\n",
              "      <th>tipo</th>\n",
              "      <th>dia_da_semana</th>\n",
              "      <th>mes</th>\n",
              "      <th>ano</th>\n",
              "      <th>hora_bruta</th>\n",
              "    </tr>\n",
              "  </thead>\n",
              "  <tbody>\n",
              "    <tr>\n",
              "      <th>0</th>\n",
              "      <td>SEM VÍTIMA</td>\n",
              "      <td>IPSEP</td>\n",
              "      <td>COLISÃO TRASEIRA</td>\n",
              "      <td>1</td>\n",
              "      <td>1</td>\n",
              "      <td>2019</td>\n",
              "      <td>0.0</td>\n",
              "    </tr>\n",
              "    <tr>\n",
              "      <th>1</th>\n",
              "      <td>SEM VÍTIMA</td>\n",
              "      <td>BOA VIAGEM</td>\n",
              "      <td>ABALROAMENTO TRANSVERSAL</td>\n",
              "      <td>1</td>\n",
              "      <td>1</td>\n",
              "      <td>2019</td>\n",
              "      <td>1.0</td>\n",
              "    </tr>\n",
              "    <tr>\n",
              "      <th>2</th>\n",
              "      <td>SEM VÍTIMA</td>\n",
              "      <td>BOA VIAGEM</td>\n",
              "      <td>COLISÃO</td>\n",
              "      <td>1</td>\n",
              "      <td>1</td>\n",
              "      <td>2019</td>\n",
              "      <td>14.0</td>\n",
              "    </tr>\n",
              "    <tr>\n",
              "      <th>3</th>\n",
              "      <td>SEM VÍTIMA</td>\n",
              "      <td>IMBIRIBEIRA</td>\n",
              "      <td>COLISÃO</td>\n",
              "      <td>1</td>\n",
              "      <td>1</td>\n",
              "      <td>2019</td>\n",
              "      <td>2.0</td>\n",
              "    </tr>\n",
              "    <tr>\n",
              "      <th>4</th>\n",
              "      <td>COM VÍTIMA</td>\n",
              "      <td>JAQUEIRA</td>\n",
              "      <td>COLISÃO COM CICLISTA</td>\n",
              "      <td>1</td>\n",
              "      <td>1</td>\n",
              "      <td>2019</td>\n",
              "      <td>8.0</td>\n",
              "    </tr>\n",
              "    <tr>\n",
              "      <th>...</th>\n",
              "      <td>...</td>\n",
              "      <td>...</td>\n",
              "      <td>...</td>\n",
              "      <td>...</td>\n",
              "      <td>...</td>\n",
              "      <td>...</td>\n",
              "      <td>...</td>\n",
              "    </tr>\n",
              "    <tr>\n",
              "      <th>35207</th>\n",
              "      <td>VÍTIMA FATAL</td>\n",
              "      <td>ILHA DO RETIRO</td>\n",
              "      <td>ATROPELAMENTO</td>\n",
              "      <td>2</td>\n",
              "      <td>11</td>\n",
              "      <td>2016</td>\n",
              "      <td>21.0</td>\n",
              "    </tr>\n",
              "    <tr>\n",
              "      <th>35208</th>\n",
              "      <td>VÍTIMA FATAL</td>\n",
              "      <td>TORRÕES</td>\n",
              "      <td>COLISÃO COM CICLISTA</td>\n",
              "      <td>3</td>\n",
              "      <td>11</td>\n",
              "      <td>2016</td>\n",
              "      <td>10.0</td>\n",
              "    </tr>\n",
              "    <tr>\n",
              "      <th>35209</th>\n",
              "      <td>VÍTIMA FATAL</td>\n",
              "      <td>AFOGADOS</td>\n",
              "      <td>ATROPELAMENTO</td>\n",
              "      <td>3</td>\n",
              "      <td>11</td>\n",
              "      <td>2016</td>\n",
              "      <td>11.0</td>\n",
              "    </tr>\n",
              "    <tr>\n",
              "      <th>35210</th>\n",
              "      <td>VÍTIMA FATAL</td>\n",
              "      <td>CORDEIRO</td>\n",
              "      <td>ATROPELAMENTO</td>\n",
              "      <td>1</td>\n",
              "      <td>12</td>\n",
              "      <td>2016</td>\n",
              "      <td>11.0</td>\n",
              "    </tr>\n",
              "    <tr>\n",
              "      <th>35211</th>\n",
              "      <td>VÍTIMA FATAL</td>\n",
              "      <td>VÁRZEA</td>\n",
              "      <td>COLISÃO</td>\n",
              "      <td>4</td>\n",
              "      <td>12</td>\n",
              "      <td>2016</td>\n",
              "      <td>14.0</td>\n",
              "    </tr>\n",
              "  </tbody>\n",
              "</table>\n",
              "<p>35212 rows × 7 columns</p>\n",
              "</div>"
            ],
            "text/plain": [
              "      natureza_acidente          bairro  ...   ano  hora_bruta\n",
              "0            SEM VÍTIMA           IPSEP  ...  2019         0.0\n",
              "1            SEM VÍTIMA      BOA VIAGEM  ...  2019         1.0\n",
              "2            SEM VÍTIMA      BOA VIAGEM  ...  2019        14.0\n",
              "3            SEM VÍTIMA     IMBIRIBEIRA  ...  2019         2.0\n",
              "4            COM VÍTIMA        JAQUEIRA  ...  2019         8.0\n",
              "...                 ...             ...  ...   ...         ...\n",
              "35207      VÍTIMA FATAL  ILHA DO RETIRO  ...  2016        21.0\n",
              "35208      VÍTIMA FATAL         TORRÕES  ...  2016        10.0\n",
              "35209      VÍTIMA FATAL        AFOGADOS  ...  2016        11.0\n",
              "35210      VÍTIMA FATAL        CORDEIRO  ...  2016        11.0\n",
              "35211      VÍTIMA FATAL          VÁRZEA  ...  2016        14.0\n",
              "\n",
              "[35212 rows x 7 columns]"
            ]
          },
          "metadata": {
            "tags": []
          },
          "execution_count": 12
        }
      ]
    },
    {
      "cell_type": "code",
      "metadata": {
        "id": "WKHJgQA1LmhW"
      },
      "source": [
        ""
      ],
      "execution_count": null,
      "outputs": []
    },
    {
      "cell_type": "code",
      "metadata": {
        "id": "GtA4AFBe1giY",
        "colab": {
          "base_uri": "https://localhost:8080/"
        },
        "outputId": "f13a5694-9ca8-425d-c0ca-48274aaaa575"
      },
      "source": [
        "dados_acidentes_completos.natureza_acidente.cat.categories"
      ],
      "execution_count": null,
      "outputs": [
        {
          "output_type": "execute_result",
          "data": {
            "text/plain": [
              "Index(['COM VÍTIMA', 'SEM VÍTIMA', 'VÍTIMA FATAL'], dtype='object')"
            ]
          },
          "metadata": {
            "tags": []
          },
          "execution_count": 36
        }
      ]
    },
    {
      "cell_type": "code",
      "metadata": {
        "id": "MZCJN9rELjpy",
        "colab": {
          "base_uri": "https://localhost:8080/"
        },
        "outputId": "588b6123-0c68-4be4-f019-80053f2cc98c"
      },
      "source": [
        "dados_acidentes_completos.bairro.cat.categories"
      ],
      "execution_count": null,
      "outputs": [
        {
          "output_type": "execute_result",
          "data": {
            "text/plain": [
              "Index(['AFLITOS', 'AFOGADOS', 'ALTO DO MANDU', 'ALTO JOSÉ BONIFÁCIO',\n",
              "       'ALTO JOSÉ DO PINHO', 'ALTO SANTA TERESINHA', 'APIPUCOS', 'AREIAS',\n",
              "       'ARRUDA', 'BAIRRO DO RECIFE', 'BARRO', 'BEBERIBE', 'BOA VIAGEM',\n",
              "       'BOA VISTA', 'BOMBA DO HEMETÉRIO', 'BONGI', 'BRASÍLIA TEIMOSA',\n",
              "       'BREJO DA GUABIRABA', 'BREJO DE BEBERIBE', 'CABANGA', 'CAJUEIRO',\n",
              "       'CAMPINA DO BARRETO', 'CAMPO GRANDE', 'CASA AMARELA', 'CASA FORTE',\n",
              "       'CAXANGÁ', 'CAÇOTE', 'CIDADE UNIVERSITÁRIA', 'COELHOS', 'COHAB',\n",
              "       'COQUEIRAL', 'CORDEIRO', 'CURADO', 'CÓRREGO DO JENIPAPO', 'DERBY',\n",
              "       'DOIS IRMÃOS', 'DOIS UNIDOS', 'ENCRUZILHADA', 'ENGENHO DO MEIO',\n",
              "       'ESPINHEIRO', 'ESTÂNCIA', 'FUNDÃO', 'GRAÇAS', 'GUABIRABA', 'HIPÓDROMO',\n",
              "       'IBURA', 'ILHA DO LEITE', 'ILHA DO RETIRO', 'ILHA JOANA BEZERRA',\n",
              "       'IMBIRIBEIRA', 'IPSEP', 'IPUTINGA', 'JAQUEIRA', 'JARDIM SÃO PAULO',\n",
              "       'JIQUIÁ', 'JORDÃO', 'LINHA DO TIRO', 'MACAXEIRA', 'MADALENA',\n",
              "       'MANGABEIRA', 'MANGUEIRA', 'MONTEIRO', 'MORRO DA CONCEIÇÃO',\n",
              "       'MUSTARDINHA', 'NOVA DESCOBERTA', 'Não informado', 'PAISSANDU',\n",
              "       'PARNAMIRIM', 'PASSARINHO', 'PINA', 'PONTO DE PARADA',\n",
              "       'PORTO DA MADEIRA', 'POÇO DA PANELA', 'PRADO', 'ROSARINHO',\n",
              "       'SAN MARTIN', 'SANCHO', 'SANTANA', 'SANTO AMARO', 'SANTO ANTÔNIO',\n",
              "       'SOLEDADE', 'SÃO JOSÉ', 'SÍTIO DOS PINTOS', 'TAMARINEIRA', 'TEJIPIÓ',\n",
              "       'TORRE', 'TORREÃO', 'TORRÕES', 'TOTÓ', 'VASCO DA GAMA', 'VÁRZEA',\n",
              "       'ZUMBI', 'ÁGUA FRIA'],\n",
              "      dtype='object')"
            ]
          },
          "metadata": {
            "tags": []
          },
          "execution_count": 37
        }
      ]
    },
    {
      "cell_type": "code",
      "metadata": {
        "id": "5K4PxHs5LjyG",
        "colab": {
          "base_uri": "https://localhost:8080/"
        },
        "outputId": "391b0642-cc82-440f-a49a-bf53c8a9b4e4"
      },
      "source": [
        "dados_acidentes_completos.tipo.cat.categories"
      ],
      "execution_count": null,
      "outputs": [
        {
          "output_type": "execute_result",
          "data": {
            "text/plain": [
              "Index(['ABALROAMENTO LONGITUDINAL', 'ABALROAMENTO TRANSVERSAL',\n",
              "       'ACID. DE PERCURSO', 'ATROPELAMENTO', 'ATROPELAMENTO ANIMAL',\n",
              "       'CAPOTAMENTO', 'CHOQUE', 'CHOQUE OBJETO FIXO', 'CHOQUE VEÍCULO PARADO',\n",
              "       'COLISÃO', 'COLISÃO COM CICLISTA', 'COLISÃO FRONTAL',\n",
              "       'COLISÃO TRASEIRA', 'ENGAVETAMENTO', 'Não informado', 'TOMBAMENTO'],\n",
              "      dtype='object')"
            ]
          },
          "metadata": {
            "tags": []
          },
          "execution_count": 38
        }
      ]
    },
    {
      "cell_type": "code",
      "metadata": {
        "id": "6aOG-IBsbscO"
      },
      "source": [
        ""
      ],
      "execution_count": null,
      "outputs": []
    },
    {
      "cell_type": "code",
      "metadata": {
        "colab": {
          "base_uri": "https://localhost:8080/"
        },
        "id": "tKap2JC1eQJs",
        "outputId": "1cbfedb0-d2a6-43b3-a83e-d980e5364cf4"
      },
      "source": [
        "tipo_cat_codes = dict(enumerate(dados_acidentes_completos['tipo'].cat.categories))\n",
        "tipo_cat_codes"
      ],
      "execution_count": 22,
      "outputs": [
        {
          "output_type": "execute_result",
          "data": {
            "text/plain": [
              "{0: 'ABALROAMENTO LONGITUDINAL',\n",
              " 1: 'ABALROAMENTO TRANSVERSAL',\n",
              " 2: 'ACID. DE PERCURSO',\n",
              " 3: 'ATROPELAMENTO',\n",
              " 4: 'ATROPELAMENTO ANIMAL',\n",
              " 5: 'CAPOTAMENTO',\n",
              " 6: 'CHOQUE',\n",
              " 7: 'CHOQUE OBJETO FIXO',\n",
              " 8: 'CHOQUE VEÍCULO PARADO',\n",
              " 9: 'COLISÃO',\n",
              " 10: 'COLISÃO COM CICLISTA',\n",
              " 11: 'COLISÃO FRONTAL',\n",
              " 12: 'COLISÃO TRASEIRA',\n",
              " 13: 'ENGAVETAMENTO',\n",
              " 14: 'Não informado',\n",
              " 15: 'TOMBAMENTO'}"
            ]
          },
          "metadata": {
            "tags": []
          },
          "execution_count": 22
        }
      ]
    },
    {
      "cell_type": "code",
      "metadata": {
        "id": "AGWlG4ALcwP4"
      },
      "source": [
        ""
      ],
      "execution_count": null,
      "outputs": []
    },
    {
      "cell_type": "code",
      "metadata": {
        "id": "HVXJf7FHUBHx",
        "colab": {
          "base_uri": "https://localhost:8080/",
          "height": 424
        },
        "outputId": "a47c5c89-4df1-4c04-8890-dd1e39664355"
      },
      "source": [
        "#categorias em números\n",
        "\n",
        "acidentes = dados_acidentes_completos.apply(lambda x: x.cat.codes if x.name in categories_list else x)\n",
        "acidentes"
      ],
      "execution_count": 15,
      "outputs": [
        {
          "output_type": "execute_result",
          "data": {
            "text/html": [
              "<div>\n",
              "<style scoped>\n",
              "    .dataframe tbody tr th:only-of-type {\n",
              "        vertical-align: middle;\n",
              "    }\n",
              "\n",
              "    .dataframe tbody tr th {\n",
              "        vertical-align: top;\n",
              "    }\n",
              "\n",
              "    .dataframe thead th {\n",
              "        text-align: right;\n",
              "    }\n",
              "</style>\n",
              "<table border=\"1\" class=\"dataframe\">\n",
              "  <thead>\n",
              "    <tr style=\"text-align: right;\">\n",
              "      <th></th>\n",
              "      <th>natureza_acidente</th>\n",
              "      <th>bairro</th>\n",
              "      <th>tipo</th>\n",
              "      <th>dia_da_semana</th>\n",
              "      <th>mes</th>\n",
              "      <th>ano</th>\n",
              "      <th>hora_bruta</th>\n",
              "    </tr>\n",
              "  </thead>\n",
              "  <tbody>\n",
              "    <tr>\n",
              "      <th>0</th>\n",
              "      <td>1</td>\n",
              "      <td>50</td>\n",
              "      <td>12</td>\n",
              "      <td>1</td>\n",
              "      <td>1</td>\n",
              "      <td>2019</td>\n",
              "      <td>0.0</td>\n",
              "    </tr>\n",
              "    <tr>\n",
              "      <th>1</th>\n",
              "      <td>1</td>\n",
              "      <td>12</td>\n",
              "      <td>1</td>\n",
              "      <td>1</td>\n",
              "      <td>1</td>\n",
              "      <td>2019</td>\n",
              "      <td>1.0</td>\n",
              "    </tr>\n",
              "    <tr>\n",
              "      <th>2</th>\n",
              "      <td>1</td>\n",
              "      <td>12</td>\n",
              "      <td>9</td>\n",
              "      <td>1</td>\n",
              "      <td>1</td>\n",
              "      <td>2019</td>\n",
              "      <td>14.0</td>\n",
              "    </tr>\n",
              "    <tr>\n",
              "      <th>3</th>\n",
              "      <td>1</td>\n",
              "      <td>49</td>\n",
              "      <td>9</td>\n",
              "      <td>1</td>\n",
              "      <td>1</td>\n",
              "      <td>2019</td>\n",
              "      <td>2.0</td>\n",
              "    </tr>\n",
              "    <tr>\n",
              "      <th>4</th>\n",
              "      <td>0</td>\n",
              "      <td>52</td>\n",
              "      <td>10</td>\n",
              "      <td>1</td>\n",
              "      <td>1</td>\n",
              "      <td>2019</td>\n",
              "      <td>8.0</td>\n",
              "    </tr>\n",
              "    <tr>\n",
              "      <th>...</th>\n",
              "      <td>...</td>\n",
              "      <td>...</td>\n",
              "      <td>...</td>\n",
              "      <td>...</td>\n",
              "      <td>...</td>\n",
              "      <td>...</td>\n",
              "      <td>...</td>\n",
              "    </tr>\n",
              "    <tr>\n",
              "      <th>35207</th>\n",
              "      <td>2</td>\n",
              "      <td>47</td>\n",
              "      <td>3</td>\n",
              "      <td>2</td>\n",
              "      <td>11</td>\n",
              "      <td>2016</td>\n",
              "      <td>21.0</td>\n",
              "    </tr>\n",
              "    <tr>\n",
              "      <th>35208</th>\n",
              "      <td>2</td>\n",
              "      <td>87</td>\n",
              "      <td>10</td>\n",
              "      <td>3</td>\n",
              "      <td>11</td>\n",
              "      <td>2016</td>\n",
              "      <td>10.0</td>\n",
              "    </tr>\n",
              "    <tr>\n",
              "      <th>35209</th>\n",
              "      <td>2</td>\n",
              "      <td>1</td>\n",
              "      <td>3</td>\n",
              "      <td>3</td>\n",
              "      <td>11</td>\n",
              "      <td>2016</td>\n",
              "      <td>11.0</td>\n",
              "    </tr>\n",
              "    <tr>\n",
              "      <th>35210</th>\n",
              "      <td>2</td>\n",
              "      <td>31</td>\n",
              "      <td>3</td>\n",
              "      <td>1</td>\n",
              "      <td>12</td>\n",
              "      <td>2016</td>\n",
              "      <td>11.0</td>\n",
              "    </tr>\n",
              "    <tr>\n",
              "      <th>35211</th>\n",
              "      <td>2</td>\n",
              "      <td>90</td>\n",
              "      <td>9</td>\n",
              "      <td>4</td>\n",
              "      <td>12</td>\n",
              "      <td>2016</td>\n",
              "      <td>14.0</td>\n",
              "    </tr>\n",
              "  </tbody>\n",
              "</table>\n",
              "<p>35212 rows × 7 columns</p>\n",
              "</div>"
            ],
            "text/plain": [
              "       natureza_acidente  bairro  tipo  dia_da_semana  mes   ano  hora_bruta\n",
              "0                      1      50    12              1    1  2019         0.0\n",
              "1                      1      12     1              1    1  2019         1.0\n",
              "2                      1      12     9              1    1  2019        14.0\n",
              "3                      1      49     9              1    1  2019         2.0\n",
              "4                      0      52    10              1    1  2019         8.0\n",
              "...                  ...     ...   ...            ...  ...   ...         ...\n",
              "35207                  2      47     3              2   11  2016        21.0\n",
              "35208                  2      87    10              3   11  2016        10.0\n",
              "35209                  2       1     3              3   11  2016        11.0\n",
              "35210                  2      31     3              1   12  2016        11.0\n",
              "35211                  2      90     9              4   12  2016        14.0\n",
              "\n",
              "[35212 rows x 7 columns]"
            ]
          },
          "metadata": {
            "tags": []
          },
          "execution_count": 15
        }
      ]
    },
    {
      "cell_type": "code",
      "metadata": {
        "id": "C0xAaGsvbsnU"
      },
      "source": [
        ""
      ],
      "execution_count": null,
      "outputs": []
    },
    {
      "cell_type": "code",
      "metadata": {
        "id": "aDrjWsFJClKJ"
      },
      "source": [
        "acidentes.dtypes"
      ],
      "execution_count": null,
      "outputs": []
    },
    {
      "cell_type": "code",
      "metadata": {
        "id": "FVIEhFgUbCKm"
      },
      "source": [
        "acidentes = acidentes.astype('int8')"
      ],
      "execution_count": null,
      "outputs": []
    },
    {
      "cell_type": "code",
      "metadata": {
        "id": "IrJlZynazo1T"
      },
      "source": [
        "acidentes.dtypes"
      ],
      "execution_count": null,
      "outputs": []
    },
    {
      "cell_type": "code",
      "metadata": {
        "id": "vnjDq-T1NKK2"
      },
      "source": [
        "acidentes"
      ],
      "execution_count": null,
      "outputs": []
    },
    {
      "cell_type": "code",
      "metadata": {
        "id": "mWkUf1vWVQtj"
      },
      "source": [
        "#acidentes.to_csv('./acidentes_2019_mais_vitimas.csv')"
      ],
      "execution_count": null,
      "outputs": []
    },
    {
      "cell_type": "code",
      "metadata": {
        "id": "hdvsyVPbscnq"
      },
      "source": [
        "acidentes.to_csv('./acidentes_2016_a_2019.csv')"
      ],
      "execution_count": null,
      "outputs": []
    },
    {
      "cell_type": "markdown",
      "metadata": {
        "id": "ZuPwL0-vsdJG"
      },
      "source": [
        "# Balanceamento dos dados"
      ]
    },
    {
      "cell_type": "markdown",
      "metadata": {
        "id": "HzSGc_2HVt2b"
      },
      "source": [
        "# Acidentes: plots"
      ]
    },
    {
      "cell_type": "code",
      "metadata": {
        "id": "OraLGvQeVzIk",
        "colab": {
          "base_uri": "https://localhost:8080/"
        },
        "outputId": "f949701d-04ce-40ea-9390-bdfc93232f22"
      },
      "source": [
        "acidentes.count()"
      ],
      "execution_count": null,
      "outputs": [
        {
          "output_type": "execute_result",
          "data": {
            "text/plain": [
              "natureza_acidente    5145\n",
              "bairro               5145\n",
              "tipo                 5145\n",
              "condicao_via         5145\n",
              "dia_da_semana        5145\n",
              "mes                  5145\n",
              "hora_bruta           5145\n",
              "dtype: int64"
            ]
          },
          "metadata": {
            "tags": []
          },
          "execution_count": 45
        }
      ]
    },
    {
      "cell_type": "code",
      "metadata": {
        "id": "R2pdhK-fWSE4",
        "colab": {
          "base_uri": "https://localhost:8080/"
        },
        "outputId": "9291c30e-eebd-4f15-d971-3c5d83751cd8"
      },
      "source": [
        "categories_list"
      ],
      "execution_count": null,
      "outputs": [
        {
          "output_type": "execute_result",
          "data": {
            "text/plain": [
              "['natureza_acidente', 'bairro', 'tipo', 'condicao_via']"
            ]
          },
          "metadata": {
            "tags": []
          },
          "execution_count": 46
        }
      ]
    },
    {
      "cell_type": "code",
      "metadata": {
        "id": "OYFnhapOWtt0",
        "colab": {
          "base_uri": "https://localhost:8080/",
          "height": 500
        },
        "outputId": "34709238-8a2e-4a1b-aa5f-c44824327f17"
      },
      "source": [
        "acidentes['natureza_acidente'].value_counts().plot.bar(figsize=(10, 8))"
      ],
      "execution_count": null,
      "outputs": [
        {
          "output_type": "execute_result",
          "data": {
            "text/plain": [
              "<matplotlib.axes._subplots.AxesSubplot at 0x7fa7f812e860>"
            ]
          },
          "metadata": {
            "tags": []
          },
          "execution_count": 47
        },
        {
          "output_type": "display_data",
          "data": {
            "image/png": "[encoded data removed]",
            "text/plain": [
              "<Figure size 720x576 with 1 Axes>"
            ]
          },
          "metadata": {
            "tags": []
          }
        }
      ]
    },
    {
      "cell_type": "code",
      "metadata": {
        "id": "vjDdlYLrgi9t",
        "colab": {
          "base_uri": "https://localhost:8080/",
          "height": 507
        },
        "outputId": "af2e7fc0-4829-44d8-f52f-09e414622f23"
      },
      "source": [
        "acidentes['bairro'].value_counts().plot.bar(figsize=(24, 8))"
      ],
      "execution_count": null,
      "outputs": [
        {
          "output_type": "execute_result",
          "data": {
            "text/plain": [
              "<matplotlib.axes._subplots.AxesSubplot at 0x7fa7f8071d30>"
            ]
          },
          "metadata": {
            "tags": []
          },
          "execution_count": 48
        },
        {
          "output_type": "display_data",
          "data": {
            "image/png": "[encoded data removed]",
            "text/plain": [
              "<Figure size 1728x576 with 1 Axes>"
            ]
          },
          "metadata": {
            "tags": []
          }
        }
      ]
    },
    {
      "cell_type": "code",
      "metadata": {
        "id": "DRel2N9whhFf",
        "colab": {
          "base_uri": "https://localhost:8080/",
          "height": 507
        },
        "outputId": "20c260e8-1146-4f9a-e655-e75c02ffcf9f"
      },
      "source": [
        "acidentes['tipo'].value_counts().plot.bar(figsize=(10, 8))"
      ],
      "execution_count": null,
      "outputs": [
        {
          "output_type": "execute_result",
          "data": {
            "text/plain": [
              "<matplotlib.axes._subplots.AxesSubplot at 0x7fa7f8071710>"
            ]
          },
          "metadata": {
            "tags": []
          },
          "execution_count": 49
        },
        {
          "output_type": "display_data",
          "data": {
            "image/png": "[encoded data removed]",
            "text/plain": [
              "<Figure size 720x576 with 1 Axes>"
            ]
          },
          "metadata": {
            "tags": []
          }
        }
      ]
    },
    {
      "cell_type": "code",
      "metadata": {
        "id": "e8q5MHCdXF-N",
        "colab": {
          "base_uri": "https://localhost:8080/",
          "height": 500
        },
        "outputId": "954c3a49-7af6-4db9-9d40-d94d01f8a92e"
      },
      "source": [
        "acidentes['dia_da_semana'].value_counts().plot.bar(figsize=(10, 8))"
      ],
      "execution_count": null,
      "outputs": [
        {
          "output_type": "execute_result",
          "data": {
            "text/plain": [
              "<matplotlib.axes._subplots.AxesSubplot at 0x7fa7f7944f98>"
            ]
          },
          "metadata": {
            "tags": []
          },
          "execution_count": 50
        },
        {
          "output_type": "display_data",
          "data": {
            "image/png": "[encoded data removed]",
            "text/plain": [
              "<Figure size 720x576 with 1 Axes>"
            ]
          },
          "metadata": {
            "tags": []
          }
        }
      ]
    },
    {
      "cell_type": "code",
      "metadata": {
        "id": "oKBw9MRcXRzf",
        "colab": {
          "base_uri": "https://localhost:8080/",
          "height": 507
        },
        "outputId": "08884ca4-bfd0-4f2f-bbdb-bd81d44b40c6"
      },
      "source": [
        "acidentes['hora_bruta'].value_counts().plot.bar(figsize=(10,8))"
      ],
      "execution_count": null,
      "outputs": [
        {
          "output_type": "execute_result",
          "data": {
            "text/plain": [
              "<matplotlib.axes._subplots.AxesSubplot at 0x7fa7f790a588>"
            ]
          },
          "metadata": {
            "tags": []
          },
          "execution_count": 51
        },
        {
          "output_type": "display_data",
          "data": {
            "image/png": "[encoded data removed]",
            "text/plain": [
              "<Figure size 720x576 with 1 Axes>"
            ]
          },
          "metadata": {
            "tags": []
          }
        }
      ]
    },
    {
      "cell_type": "code",
      "metadata": {
        "id": "dVcieEbUfibN"
      },
      "source": [
        ""
      ],
      "execution_count": null,
      "outputs": []
    },
    {
      "cell_type": "code",
      "metadata": {
        "id": "CG-KM7Qkfi3t"
      },
      "source": [
        ""
      ],
      "execution_count": null,
      "outputs": []
    },
    {
      "cell_type": "markdown",
      "metadata": {
        "id": "EcgVpuMyfj4F"
      },
      "source": [
        "Visualização dos dados em geral"
      ]
    },
    {
      "cell_type": "code",
      "metadata": {
        "id": "xa1G50XLmlkL"
      },
      "source": [
        ""
      ],
      "execution_count": null,
      "outputs": []
    },
    {
      "cell_type": "code",
      "metadata": {
        "id": "HIsO7nArmnDy",
        "colab": {
          "base_uri": "https://localhost:8080/",
          "height": 269
        },
        "outputId": "97b57c92-c352-4a8e-8149-ca52e43be2a1"
      },
      "source": [
        "acidentes.corr()"
      ],
      "execution_count": null,
      "outputs": [
        {
          "output_type": "execute_result",
          "data": {
            "text/html": [
              "<div>\n",
              "<style scoped>\n",
              "    .dataframe tbody tr th:only-of-type {\n",
              "        vertical-align: middle;\n",
              "    }\n",
              "\n",
              "    .dataframe tbody tr th {\n",
              "        vertical-align: top;\n",
              "    }\n",
              "\n",
              "    .dataframe thead th {\n",
              "        text-align: right;\n",
              "    }\n",
              "</style>\n",
              "<table border=\"1\" class=\"dataframe\">\n",
              "  <thead>\n",
              "    <tr style=\"text-align: right;\">\n",
              "      <th></th>\n",
              "      <th>natureza_acidente</th>\n",
              "      <th>bairro</th>\n",
              "      <th>tipo</th>\n",
              "      <th>condicao_via</th>\n",
              "      <th>dia_da_semana</th>\n",
              "      <th>mes</th>\n",
              "      <th>hora_bruta</th>\n",
              "    </tr>\n",
              "  </thead>\n",
              "  <tbody>\n",
              "    <tr>\n",
              "      <th>natureza_acidente</th>\n",
              "      <td>1.000000</td>\n",
              "      <td>-0.024268</td>\n",
              "      <td>0.023400</td>\n",
              "      <td>-0.071840</td>\n",
              "      <td>-0.032105</td>\n",
              "      <td>-0.005593</td>\n",
              "      <td>-0.025377</td>\n",
              "    </tr>\n",
              "    <tr>\n",
              "      <th>bairro</th>\n",
              "      <td>-0.024268</td>\n",
              "      <td>1.000000</td>\n",
              "      <td>0.007826</td>\n",
              "      <td>0.003466</td>\n",
              "      <td>0.003452</td>\n",
              "      <td>-0.015556</td>\n",
              "      <td>0.019106</td>\n",
              "    </tr>\n",
              "    <tr>\n",
              "      <th>tipo</th>\n",
              "      <td>0.023400</td>\n",
              "      <td>0.007826</td>\n",
              "      <td>1.000000</td>\n",
              "      <td>-0.050085</td>\n",
              "      <td>-0.002049</td>\n",
              "      <td>0.012126</td>\n",
              "      <td>-0.035834</td>\n",
              "    </tr>\n",
              "    <tr>\n",
              "      <th>condicao_via</th>\n",
              "      <td>-0.071840</td>\n",
              "      <td>0.003466</td>\n",
              "      <td>-0.050085</td>\n",
              "      <td>1.000000</td>\n",
              "      <td>0.017801</td>\n",
              "      <td>0.120477</td>\n",
              "      <td>0.026512</td>\n",
              "    </tr>\n",
              "    <tr>\n",
              "      <th>dia_da_semana</th>\n",
              "      <td>-0.032105</td>\n",
              "      <td>0.003452</td>\n",
              "      <td>-0.002049</td>\n",
              "      <td>0.017801</td>\n",
              "      <td>1.000000</td>\n",
              "      <td>0.019965</td>\n",
              "      <td>0.020593</td>\n",
              "    </tr>\n",
              "    <tr>\n",
              "      <th>mes</th>\n",
              "      <td>-0.005593</td>\n",
              "      <td>-0.015556</td>\n",
              "      <td>0.012126</td>\n",
              "      <td>0.120477</td>\n",
              "      <td>0.019965</td>\n",
              "      <td>1.000000</td>\n",
              "      <td>0.001712</td>\n",
              "    </tr>\n",
              "    <tr>\n",
              "      <th>hora_bruta</th>\n",
              "      <td>-0.025377</td>\n",
              "      <td>0.019106</td>\n",
              "      <td>-0.035834</td>\n",
              "      <td>0.026512</td>\n",
              "      <td>0.020593</td>\n",
              "      <td>0.001712</td>\n",
              "      <td>1.000000</td>\n",
              "    </tr>\n",
              "  </tbody>\n",
              "</table>\n",
              "</div>"
            ],
            "text/plain": [
              "                   natureza_acidente    bairro  ...       mes  hora_bruta\n",
              "natureza_acidente           1.000000 -0.024268  ... -0.005593   -0.025377\n",
              "bairro                     -0.024268  1.000000  ... -0.015556    0.019106\n",
              "tipo                        0.023400  0.007826  ...  0.012126   -0.035834\n",
              "condicao_via               -0.071840  0.003466  ...  0.120477    0.026512\n",
              "dia_da_semana              -0.032105  0.003452  ...  0.019965    0.020593\n",
              "mes                        -0.005593 -0.015556  ...  1.000000    0.001712\n",
              "hora_bruta                 -0.025377  0.019106  ...  0.001712    1.000000\n",
              "\n",
              "[7 rows x 7 columns]"
            ]
          },
          "metadata": {
            "tags": []
          },
          "execution_count": 73
        }
      ]
    },
    {
      "cell_type": "code",
      "metadata": {
        "id": "1A84P20TmnGk"
      },
      "source": [
        ""
      ],
      "execution_count": null,
      "outputs": []
    },
    {
      "cell_type": "code",
      "metadata": {
        "id": "K53XdImMmnJH"
      },
      "source": [
        ""
      ],
      "execution_count": null,
      "outputs": []
    },
    {
      "cell_type": "code",
      "metadata": {
        "id": "Aym4KaJUk6PL"
      },
      "source": [
        "sns.set(rc={'figure.figsize':(15,12)})"
      ],
      "execution_count": null,
      "outputs": []
    },
    {
      "cell_type": "code",
      "metadata": {
        "id": "xtR63MiOmlmW"
      },
      "source": [
        ""
      ],
      "execution_count": null,
      "outputs": []
    },
    {
      "cell_type": "code",
      "metadata": {
        "id": "yrWKOFX8kGd5"
      },
      "source": [
        "def normalize(column):\n",
        "  min = column.min()\n",
        "  max = column.max()\n",
        "\n",
        "  return (column - min)/(max - min)"
      ],
      "execution_count": null,
      "outputs": []
    },
    {
      "cell_type": "code",
      "metadata": {
        "id": "UYp4jnfbiuPU",
        "colab": {
          "base_uri": "https://localhost:8080/",
          "height": 738
        },
        "outputId": "f12650f8-f7ce-4c1a-9b6b-38d19efd5f9c"
      },
      "source": [
        "sns.scatterplot(x='tipo', y='hora_bruta', hue='natureza_acidente', data=acidentes, palette=['orange', 'blue', 'red'], legend=False)"
      ],
      "execution_count": null,
      "outputs": [
        {
          "output_type": "execute_result",
          "data": {
            "text/plain": [
              "<matplotlib.axes._subplots.AxesSubplot at 0x7fa7f58c4208>"
            ]
          },
          "metadata": {
            "tags": []
          },
          "execution_count": 72
        },
        {
          "output_type": "display_data",
          "data": {
            "image/png": "[encoded data removed]",
            "text/plain": [
              "<Figure size 1080x864 with 1 Axes>"
            ]
          },
          "metadata": {
            "tags": []
          }
        }
      ]
    },
    {
      "cell_type": "code",
      "metadata": {
        "id": "y40yG_h4iuSH"
      },
      "source": [
        ""
      ],
      "execution_count": null,
      "outputs": []
    },
    {
      "cell_type": "code",
      "metadata": {
        "id": "lUSGRDFziuU4"
      },
      "source": [
        ""
      ],
      "execution_count": null,
      "outputs": []
    },
    {
      "cell_type": "code",
      "metadata": {
        "id": "t5r_cckmiuXs"
      },
      "source": [
        ""
      ],
      "execution_count": null,
      "outputs": []
    },
    {
      "cell_type": "code",
      "metadata": {
        "id": "011PjH5yiuaY"
      },
      "source": [
        ""
      ],
      "execution_count": null,
      "outputs": []
    }
  ]
}